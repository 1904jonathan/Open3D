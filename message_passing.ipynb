{
 "cells": [
  {
   "cell_type": "code",
   "execution_count": null,
   "metadata": {},
   "outputs": [],
   "source": [
    "from traitlets import Unicode, Bool, validate, TraitError, observe\n",
    "from ipywidgets import DOMWidget, register\n",
    "import time\n",
    "import threading"
   ]
  },
  {
   "cell_type": "code",
   "execution_count": null,
   "metadata": {},
   "outputs": [],
   "source": [
    "def secret_python_function(arg0, arg1):\n",
    "    print(f\"SecretPythonPrint: {arg0}, {arg1}\")\n",
    "    return f\"SecretPythonReturn: {arg0}, {arg1}\""
   ]
  },
  {
   "cell_type": "code",
   "execution_count": null,
   "metadata": {},
   "outputs": [],
   "source": [
    "def call_http_request(entry_point, query_string, data):\n",
    "    return f\"CallHttpRequest: {entry_point}, {query_string}, {data}!\"\n",
    "result = eval(\"call_http_request('hello', 'world', 'good')\")\n",
    "print(f\"result: {result}\")"
   ]
  },
  {
   "cell_type": "code",
   "execution_count": null,
   "metadata": {},
   "outputs": [],
   "source": [
    "%%javascript\n",
    "\n",
    "require.undef('email_widget');\n",
    "\n",
    "define('email_widget', [\"@jupyter-widgets/base\"], function(widgets) {\n",
    "    var WebVisualizerView = widgets.DOMWidgetView.extend({\n",
    "        sleep: function(time_ms) {\n",
    "            return new Promise((resolve) => setTimeout(resolve, time_ms));\n",
    "        },\n",
    "        \n",
    "        jspy_send: function(message) {\n",
    "            this.model.set(\"jspy_channel\", message);\n",
    "            this.touch();\n",
    "        },\n",
    "        \n",
    "        // args must be all strings.\n",
    "        // TODO: kwargs and sanity check\n",
    "        callPython: async function(func, args=[]) {\n",
    "            var message = {\n",
    "                func: func,\n",
    "                args: args\n",
    "            };\n",
    "            this.jspy_send(JSON.stringify(message));\n",
    "        },\n",
    "        \n",
    "        render: function() {\n",
    "            this.email_input = document.createElement('p');\n",
    "            this.el.appendChild(this.email_input);\n",
    "            \n",
    "            // Listen for py->js message.\n",
    "            this.model.on('change:pyjs_channel', this.on_pyjs_message, this);\n",
    "            \n",
    "            // Send js->py message for testing.\n",
    "            this.sleep(1000).then(() => {\n",
    "                this.jspy_send(\"Hello from JS: A\");\n",
    "            }).then(() => this.sleep(1000)).then(() => {\n",
    "                this.jspy_send(\"Hello from JS: B\");\n",
    "            }).then(() => this.sleep(1000)).then(() => {\n",
    "                this.jspy_send(\"Hello from JS: C\");\n",
    "            });\n",
    "            this.callPython(\"call_http_request\", [\"my_entry_point\", \n",
    "                                                  \"my_query_string\", \n",
    "                                                  \"my_data\"])\n",
    "        },\n",
    "        \n",
    "        on_pyjs_message: function() {\n",
    "            var message = this.model.get('pyjs_channel');\n",
    "            message = \"pyjs_message: \" + message;\n",
    "            this.email_input.innerText = this.email_input.innerText \n",
    "                                       + \"\\n\" \n",
    "                                       + message;\n",
    "        },\n",
    "        \n",
    "    });\n",
    "    \n",
    "    return {\n",
    "        WebVisualizerView: WebVisualizerView\n",
    "    }\n",
    "});"
   ]
  },
  {
   "cell_type": "code",
   "execution_count": null,
   "metadata": {},
   "outputs": [],
   "source": [
    "def py2js_send_five_messages(widget):\n",
    "    def func():\n",
    "        for i in range(3):\n",
    "            widget.pyjs_channel = f\"Hello from Python: {i+1}\"\n",
    "            time.sleep(1)\n",
    "    return func\n",
    "\n",
    "@register\n",
    "class WebVisualizer(DOMWidget):\n",
    "    _view_name = Unicode('WebVisualizerView').tag(sync=True)\n",
    "    _view_module = Unicode('email_widget').tag(sync=True)\n",
    "    _view_module_version = Unicode('0.1.0').tag(sync=True)\n",
    "    \n",
    "    # Attributes\n",
    "    pyjs_channel = Unicode(\"Empty pyjs_channel.\", help=\"Python->JS message channel.\").tag(sync=True)\n",
    "    jspy_channel = Unicode(\"Empty jspy_channel.\", help=\"JS->Python message channel.\").tag(sync=True)\n",
    "\n",
    "    @observe('jspy_channel')\n",
    "    def on_jspy_message(self, change):\n",
    "        print(f\"jspy message: {change['new']}\")"
   ]
  },
  {
   "cell_type": "code",
   "execution_count": null,
   "metadata": {},
   "outputs": [],
   "source": [
    "visualizer = WebVisualizer()\n",
    "visualizer"
   ]
  },
  {
   "cell_type": "code",
   "execution_count": null,
   "metadata": {},
   "outputs": [],
   "source": [
    "thread = threading.Thread(target=py2js_send_five_messages(visualizer))\n",
    "thread.start()"
   ]
  }
 ],
 "metadata": {
  "kernelspec": {
   "display_name": "Python 3",
   "language": "python",
   "name": "python3"
  },
  "language_info": {
   "codemirror_mode": {
    "name": "ipython",
    "version": 3
   },
   "file_extension": ".py",
   "mimetype": "text/x-python",
   "name": "python",
   "nbconvert_exporter": "python",
   "pygments_lexer": "ipython3",
   "version": "3.8.6"
  }
 },
 "nbformat": 4,
 "nbformat_minor": 4
}
