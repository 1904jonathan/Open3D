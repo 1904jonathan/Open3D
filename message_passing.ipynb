{
 "cells": [
  {
   "cell_type": "code",
   "execution_count": null,
   "metadata": {},
   "outputs": [],
   "source": [
    "from traitlets import Unicode, Bool, validate, TraitError, observe\n",
    "from ipywidgets import DOMWidget, register\n",
    "import time\n",
    "import threading"
   ]
  },
  {
   "cell_type": "code",
   "execution_count": null,
   "metadata": {},
   "outputs": [],
   "source": [
    "%%javascript\n",
    "\n",
    "require.undef('email_widget');\n",
    "\n",
    "// sleep time expects milliseconds\n",
    "function sleep (time) {\n",
    "    return new Promise((resolve) => setTimeout(resolve, time));\n",
    "}\n",
    "\n",
    "define('email_widget', [\"@jupyter-widgets/base\"], function(widgets) {\n",
    "    var EmailView = widgets.DOMWidgetView.extend({\n",
    "        render: function() {\n",
    "            this.email_input = document.createElement('input');\n",
    "            this.email_input.type = 'email';\n",
    "            this.email_input.disabled = true;\n",
    "            this.email_input.value = this.model.get('jspy_channel');\n",
    "            this.el.appendChild(this.email_input);\n",
    "            \n",
    "            // Python -> JavaScript update\n",
    "            this.model.on('change:pyjs_channel', this.on_pyjs_message, this);\n",
    "            \n",
    "            // JavaScript -> Python update\n",
    "            sleep(1000).then(() => {\n",
    "                this.model.set('jspy_channel', \"Hello from JS: A\");\n",
    "                this.touch();\n",
    "            }).then(() => sleep(1000)).then(() => {\n",
    "                this.model.set('jspy_channel', \"Hello from JS: B\");\n",
    "                this.touch();\n",
    "            }).then(() => sleep(1000)).then(() => {\n",
    "                this.model.set('jspy_channel', \"Hello from JS: C\");\n",
    "                this.touch();\n",
    "            });\n",
    "        },\n",
    "        \n",
    "        on_pyjs_message: function() {\n",
    "            this.email_input.value = this.model.get('pyjs_channel');\n",
    "        },\n",
    "        \n",
    "    });\n",
    "    \n",
    "    return {\n",
    "        EmailView: EmailView\n",
    "    }\n",
    "});"
   ]
  },
  {
   "cell_type": "code",
   "execution_count": null,
   "metadata": {},
   "outputs": [],
   "source": [
    "def py2js_send_five_messages(widget):\n",
    "    def func():\n",
    "        for i in range(3):\n",
    "            widget.pyjs_channel = f\"Hello from Python: {i+1}\"\n",
    "            time.sleep(1)\n",
    "    return func\n",
    "\n",
    "@register\n",
    "class WebVisualizer(DOMWidget):\n",
    "    _view_name = Unicode('EmailView').tag(sync=True)\n",
    "    _view_module = Unicode('email_widget').tag(sync=True)\n",
    "    _view_module_version = Unicode('0.1.0').tag(sync=True)\n",
    "    \n",
    "    # Attributes\n",
    "    pyjs_channel = Unicode(\"Empty pyjs_channel.\", help=\"Python->JS messaging channel.\").tag(sync=True)\n",
    "    jspy_channel = Unicode(\"Empty jspy_channel.\", help=\"JS->Python messaging channel.\").tag(sync=True)\n",
    "\n",
    "    @observe('jspy_channel')\n",
    "    def on_jspy_message(self, change):\n",
    "        print(f\"jspy message: {change['new']}\")"
   ]
  },
  {
   "cell_type": "code",
   "execution_count": null,
   "metadata": {},
   "outputs": [],
   "source": [
    "visualizer = WebVisualizer()\n",
    "visualizer"
   ]
  },
  {
   "cell_type": "code",
   "execution_count": null,
   "metadata": {},
   "outputs": [],
   "source": [
    "thread = threading.Thread(target=py2js_send_five_messages(visualizer))\n",
    "thread.start()"
   ]
  }
 ],
 "metadata": {
  "kernelspec": {
   "display_name": "Python 3",
   "language": "python",
   "name": "python3"
  },
  "language_info": {
   "codemirror_mode": {
    "name": "ipython",
    "version": 3
   },
   "file_extension": ".py",
   "mimetype": "text/x-python",
   "name": "python",
   "nbconvert_exporter": "python",
   "pygments_lexer": "ipython3",
   "version": "3.8.6"
  }
 },
 "nbformat": 4,
 "nbformat_minor": 4
}
