{
 "cells": [
  {
   "cell_type": "code",
   "execution_count": null,
   "metadata": {},
   "outputs": [],
   "source": [
    "from traitlets import Unicode, Bool, validate, TraitError, observe\n",
    "from ipywidgets import DOMWidget, register\n",
    "import time\n",
    "import threading"
   ]
  },
  {
   "cell_type": "code",
   "execution_count": null,
   "metadata": {},
   "outputs": [],
   "source": [
    "%%javascript\n",
    "\n",
    "require.undef('email_widget');\n",
    "\n",
    "// sleep time expects milliseconds\n",
    "function sleep (time) {\n",
    "    return new Promise((resolve) => setTimeout(resolve, time));\n",
    "}\n",
    "\n",
    "define('email_widget', [\"@jupyter-widgets/base\"], function(widgets) {\n",
    "    var EmailView = widgets.DOMWidgetView.extend({\n",
    "        render: function() {\n",
    "            this.email_input = document.createElement('input');\n",
    "            this.email_input.type = 'email';\n",
    "            this.email_input.value = this.model.get('pipe_js2py');\n",
    "            this.el.appendChild(this.email_input);\n",
    "            \n",
    "            // Python -> JavaScript update\n",
    "            this.model.on('change:pipe_js2py', this.on_pipe_js2py, this);\n",
    "            \n",
    "            // JavaScript -> Python update\n",
    "            // this.email_input.onchange = this.input_changed.bind(this);\n",
    "            sleep(1000).then(() => {\n",
    "                this.model.set('pipe_js2py', \"js2py message: A\");\n",
    "                this.touch();\n",
    "            }).then(() => sleep(1000)).then(() => {\n",
    "                this.model.set('pipe_js2py', \"js2py message: B\");\n",
    "                this.touch();\n",
    "            }).then(() => sleep(1000)).then(() => {\n",
    "                this.model.set('pipe_js2py', \"js2py message: C\");\n",
    "                this.touch();\n",
    "            });\n",
    "        },\n",
    "        \n",
    "        on_pipe_js2py: function() {\n",
    "            this.email_input.value = this.model.get('pipe_js2py');\n",
    "        },\n",
    "        \n",
    "        input_changed: function() {\n",
    "            this.model.set('pipe_js2py', this.email_input.value);\n",
    "            // Use touch(), recommended by\n",
    "            // https://github.com/jupyter-widgets/ipywidgets/issues/1783#issuecomment-340312257\n",
    "            this.touch()\n",
    "            // this.model.save_changes();\n",
    "        },\n",
    "    });\n",
    "    \n",
    "    return {\n",
    "        EmailView: EmailView\n",
    "    }\n",
    "});"
   ]
  },
  {
   "cell_type": "code",
   "execution_count": null,
   "metadata": {},
   "outputs": [],
   "source": [
    "def change_value_five_times(widget):\n",
    "    def func():\n",
    "        for i in range(5):\n",
    "            widget.pipe_js2py = f\"update_{i}@gmail.com\"\n",
    "            time.sleep(1)\n",
    "    return func\n",
    "\n",
    "@register\n",
    "class Email(DOMWidget):\n",
    "    _view_name = Unicode('EmailView').tag(sync=True)\n",
    "    _view_module = Unicode('email_widget').tag(sync=True)\n",
    "    _view_module_version = Unicode('0.1.0').tag(sync=True)\n",
    "    \n",
    "    # Attributes\n",
    "    pipe_py2js = Unicode(\"Default py->js pipe value.\", help=\"Python to JS pipe.\").tag(sync=True)\n",
    "    pipe_js2py = Unicode(\"Default js->py pipe value.\", help=\"JS to Python pipe.\").tag(sync=True)\n",
    "\n",
    "    @observe('pipe_js2py')\n",
    "    def _observe_pipe_js2py(self, change):\n",
    "        print(f\"pipe_js2py changed: {change['old']} -> {change['new']}\")"
   ]
  },
  {
   "cell_type": "code",
   "execution_count": null,
   "metadata": {},
   "outputs": [],
   "source": [
    "email = Email(pipe_py2js='init_py2js', pipe_js2py='init_js2py')\n",
    "email"
   ]
  },
  {
   "cell_type": "code",
   "execution_count": null,
   "metadata": {},
   "outputs": [],
   "source": [
    "# thread = threading.Thread(target=change_value_five_times(email))\n",
    "# thread.start()"
   ]
  },
  {
   "cell_type": "code",
   "execution_count": null,
   "metadata": {},
   "outputs": [],
   "source": []
  }
 ],
 "metadata": {
  "kernelspec": {
   "display_name": "Python 3",
   "language": "python",
   "name": "python3"
  },
  "language_info": {
   "codemirror_mode": {
    "name": "ipython",
    "version": 3
   },
   "file_extension": ".py",
   "mimetype": "text/x-python",
   "name": "python",
   "nbconvert_exporter": "python",
   "pygments_lexer": "ipython3",
   "version": "3.8.6"
  }
 },
 "nbformat": 4,
 "nbformat_minor": 4
}
