{
 "cells": [
  {
   "cell_type": "code",
   "execution_count": null,
   "metadata": {},
   "outputs": [],
   "source": [
    "from traitlets import Unicode, Bool, validate, TraitError, observe\n",
    "from ipywidgets import DOMWidget, register\n",
    "import time\n",
    "import threading"
   ]
  },
  {
   "cell_type": "code",
   "execution_count": null,
   "metadata": {},
   "outputs": [],
   "source": [
    "%%javascript\n",
    "\n",
    "require.undef('email_widget');\n",
    "\n",
    "// sleep time expects milliseconds\n",
    "function sleep (time) {\n",
    "    return new Promise((resolve) => setTimeout(resolve, time));\n",
    "}\n",
    "\n",
    "define('email_widget', [\"@jupyter-widgets/base\"], function(widgets) {\n",
    "    var EmailView = widgets.DOMWidgetView.extend({\n",
    "        render: function() {\n",
    "            this.email_input = document.createElement('input');\n",
    "            this.email_input.type = 'email';\n",
    "            this.email_input.value = this.model.get('pipe_j2p');\n",
    "            this.el.appendChild(this.email_input);\n",
    "            \n",
    "            // Python -> JavaScript update\n",
    "            this.model.on('change:pipe_j2p', this.on_pipe_j2p, this);\n",
    "            \n",
    "            // JavaScript -> Python update\n",
    "            // this.email_input.onchange = this.input_changed.bind(this);\n",
    "            sleep(1000).then(() => {\n",
    "                this.model.set('pipe_j2p', \"j2p message: A\");\n",
    "                this.touch();\n",
    "            }).then(() => sleep(1000)).then(() => {\n",
    "                this.model.set('pipe_j2p', \"j2p message: B\");\n",
    "                this.touch();\n",
    "            });\n",
    "        },\n",
    "        \n",
    "        on_pipe_j2p: function() {\n",
    "            this.email_input.value = this.model.get('pipe_j2p');\n",
    "        },\n",
    "        \n",
    "        input_changed: function() {\n",
    "            this.model.set('pipe_j2p', this.email_input.value);\n",
    "            // Use touch(), recommended by\n",
    "            // https://github.com/jupyter-widgets/ipywidgets/issues/1783#issuecomment-340312257\n",
    "            this.touch()\n",
    "            // this.model.save_changes();\n",
    "        },\n",
    "    });\n",
    "    \n",
    "    return {\n",
    "        EmailView: EmailView\n",
    "    }\n",
    "});"
   ]
  },
  {
   "cell_type": "code",
   "execution_count": null,
   "metadata": {},
   "outputs": [],
   "source": [
    "def change_value_five_times(widget):\n",
    "    def func():\n",
    "        for i in range(5):\n",
    "            widget.pipe_j2p = f\"update_{i}@gmail.com\"\n",
    "            time.sleep(1)\n",
    "    return func\n",
    "\n",
    "@register\n",
    "class Email(DOMWidget):\n",
    "    _view_name = Unicode('EmailView').tag(sync=True)\n",
    "    _view_module = Unicode('email_widget').tag(sync=True)\n",
    "    _view_module_version = Unicode('0.1.0').tag(sync=True)\n",
    "    \n",
    "    # Attributes\n",
    "    pipe_p2j = Unicode(\"Default py->js pipe value.\", help=\"Python to JS pipe.\").tag(sync=True)\n",
    "    pipe_j2p = Unicode(\"Default js->py pipe value.\", help=\"JS to Python pipe.\").tag(sync=True)\n",
    "\n",
    "    @observe('pipe_j2p')\n",
    "    def _observe_pipe_j2p(self, change):\n",
    "        print(f\"pipe_j2p changed: {change['old']} -> {change['new']}\")"
   ]
  },
  {
   "cell_type": "code",
   "execution_count": null,
   "metadata": {},
   "outputs": [],
   "source": [
    "email = Email(pipe_p2j='init_p2j', pipe_j2p='init_j2p')\n",
    "email"
   ]
  },
  {
   "cell_type": "code",
   "execution_count": null,
   "metadata": {},
   "outputs": [],
   "source": [
    "# thread = threading.Thread(target=change_value_five_times(email))\n",
    "# thread.start()"
   ]
  }
 ],
 "metadata": {
  "kernelspec": {
   "display_name": "Python 3",
   "language": "python",
   "name": "python3"
  },
  "language_info": {
   "codemirror_mode": {
    "name": "ipython",
    "version": 3
   },
   "file_extension": ".py",
   "mimetype": "text/x-python",
   "name": "python",
   "nbconvert_exporter": "python",
   "pygments_lexer": "ipython3",
   "version": "3.8.6"
  }
 },
 "nbformat": 4,
 "nbformat_minor": 4
}
