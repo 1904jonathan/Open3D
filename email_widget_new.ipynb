{
 "cells": [
  {
   "cell_type": "code",
   "execution_count": null,
   "metadata": {},
   "outputs": [],
   "source": [
    "from traitlets import Unicode, Bool, validate, TraitError, observe\n",
    "from ipywidgets import DOMWidget, register\n",
    "import time\n",
    "import threading"
   ]
  },
  {
   "cell_type": "code",
   "execution_count": null,
   "metadata": {},
   "outputs": [],
   "source": [
    "%%javascript\n",
    "\n",
    "require.undef('email_widget');\n",
    "\n",
    "define('email_widget', [\"@jupyter-widgets/base\"], function(widgets) {\n",
    "    var EmailView = widgets.DOMWidgetView.extend({\n",
    "\n",
    "        render: function() {\n",
    "            // Key concepts:\n",
    "            // - this.model: the model associated with a view instance\n",
    "            // - this.el   : DOM element associated with the view\n",
    "            this.email_input = document.createElement('input');\n",
    "            this.email_input.type = 'email';\n",
    "            this.email_input.value = this.model.get('pipe_p2j');\n",
    "            this.email_input.disabled = this.model.get('disabled');\n",
    "            this.el.appendChild(this.email_input);\n",
    "            \n",
    "            // Python -> JavaScript update\n",
    "            this.model.on('change:pipe_p2j', this.on_pipe_p2j, this);\n",
    "            this.model.on('change:disabled', this.disabled_changed, this);\n",
    "            \n",
    "            // JavaScript -> Python update\n",
    "            this.email_input.onchange = this.input_changed.bind(this);\n",
    "        },\n",
    "        \n",
    "        on_pipe_p2j: function() {\n",
    "            this.email_input.value = this.model.get('pipe_p2j');\n",
    "        },\n",
    "        \n",
    "        disabled_changed: function() {\n",
    "            this.email_input.disabled = this.model.get('disabled');\n",
    "        },\n",
    "        \n",
    "        input_changed: function() {\n",
    "            this.model.set('pipe_p2j', this.email_input.value);\n",
    "            // Use touch(), recommended by\n",
    "            // https://github.com/jupyter-widgets/ipywidgets/issues/1783#issuecomment-340312257\n",
    "            this.touch()\n",
    "            // this.model.save_changes();\n",
    "        },\n",
    "    });\n",
    "    \n",
    "    return {\n",
    "        EmailView: EmailView\n",
    "    }\n",
    "});"
   ]
  },
  {
   "cell_type": "code",
   "execution_count": null,
   "metadata": {},
   "outputs": [],
   "source": [
    "def change_value_five_times(widget):\n",
    "    def func():\n",
    "        for i in range(5):\n",
    "            time.sleep(1)\n",
    "            widget.pipe_p2j = f\"update_{i}@gmail.com\"\n",
    "    return func\n",
    "\n",
    "@register\n",
    "class Email(DOMWidget):\n",
    "    _view_name = Unicode('EmailView').tag(sync=True)\n",
    "    _view_module = Unicode('email_widget').tag(sync=True)\n",
    "    _view_module_version = Unicode('0.1.0').tag(sync=True)\n",
    "    \n",
    "    # Attributes\n",
    "    pipe_p2j = Unicode('example@example.com', help=\"Python to JS pipe.\").tag(sync=True)\n",
    "    disabled = Bool(False, help=\"Enable or disable user changes.\").tag(sync=True)\n",
    "\n",
    "    @observe('pipe_p2j')\n",
    "    def _observe_pipe_p2j(self, change):\n",
    "        print(f\"_observe_value: {change['old']}\")\n",
    "        print(f\"_observe_value: {change['new']}\")"
   ]
  },
  {
   "cell_type": "code",
   "execution_count": null,
   "metadata": {},
   "outputs": [],
   "source": [
    "email = Email(pipe_p2j='john.doe@domain.com', disabled=False)\n",
    "email"
   ]
  },
  {
   "cell_type": "code",
   "execution_count": null,
   "metadata": {},
   "outputs": [],
   "source": [
    "thread = threading.Thread(target=change_value_five_times(email))\n",
    "thread.start()"
   ]
  },
  {
   "cell_type": "code",
   "execution_count": null,
   "metadata": {},
   "outputs": [],
   "source": [
    "# Python to JS update\n",
    "email.value = 'gwen@domain.com'"
   ]
  },
  {
   "cell_type": "code",
   "execution_count": null,
   "metadata": {},
   "outputs": [],
   "source": [
    "# Now, in the Widget, change value manually\n",
    "email.value"
   ]
  }
 ],
 "metadata": {
  "kernelspec": {
   "display_name": "Python 3",
   "language": "python",
   "name": "python3"
  },
  "language_info": {
   "codemirror_mode": {
    "name": "ipython",
    "version": 3
   },
   "file_extension": ".py",
   "mimetype": "text/x-python",
   "name": "python",
   "nbconvert_exporter": "python",
   "pygments_lexer": "ipython3",
   "version": "3.8.6"
  }
 },
 "nbformat": 4,
 "nbformat_minor": 4
}
