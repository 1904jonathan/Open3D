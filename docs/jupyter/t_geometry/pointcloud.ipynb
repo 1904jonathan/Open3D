{
 "cells": [
  {
   "cell_type": "code",
   "execution_count": 19,
   "metadata": {},
   "outputs": [],
   "source": [
    "import open3d as o3d\n",
    "import open3d.core as o3c\n",
    "import numpy as np\n",
    "import matplotlib.pyplot as plt\n",
    "import copy\n",
    "import os\n",
    "import sys"
   ]
  },
  {
   "cell_type": "markdown",
   "metadata": {},
   "source": [
    "# Point cloud\n",
    "This tutorial demonstrates basic usage of a point cloud.\n",
    "\n",
    "## PointCloud creation\n",
    "The first part of the tutorial shows how to construct a point cloud."
   ]
  },
  {
   "cell_type": "code",
   "execution_count": 25,
   "metadata": {},
   "outputs": [
    {
     "name": "stdout",
     "output_type": "stream",
     "text": [
      "PointCloud on CPU:0 [0 points] Attributes: None.\n",
      "PointCloud on CUDA:0 [0 points] Attributes: None.\n",
      "PointCloud on CPU:0 [2 points (Float32)] Attributes: None.\n",
      "PointCloud on CPU:0 [2 points (Float64)] Attributes: None.\n",
      "PointCloud on CUDA:0 [2 points (Float32)] Attributes: None.\n",
      "PointCloud on CPU:0 [2 points (Float32)] Attributes: None.\n",
      "PointCloud on CPU:0 [2 points (Float64)] Attributes: None.\n"
     ]
    },
    {
     "ename": "RuntimeError",
     "evalue": "\u001b[1;31m[Open3D Error] (open3d::t::geometry::PointCloud::PointCloud(const open3d::core::Tensor&)) /root/Open3D/cpp/open3d/t/geometry/PointCloud.cpp:72: Tensor has shape {4}, but is expected to have compatible with {None, 3}.\n\u001b[0;m",
     "output_type": "error",
     "traceback": [
      "\u001b[0;31m---------------------------------------------------------------------------\u001b[0m",
      "\u001b[0;31mRuntimeError\u001b[0m                              Traceback (most recent call last)",
      "\u001b[1;32m/root/Open3D/docs/jupyter/t_geometry/pointcloud.ipynb Cell 3\u001b[0m in \u001b[0;36m<cell line: 26>\u001b[0;34m()\u001b[0m\n\u001b[1;32m     <a href='vscode-notebook-cell://attached-container%2B7b22636f6e7461696e65724e616d65223a222f6f70656e3364227d/root/Open3D/docs/jupyter/t_geometry/pointcloud.ipynb#W2sdnNjb2RlLXJlbW90ZQ%3D%3D?line=22'>23</a>\u001b[0m pcd \u001b[39m=\u001b[39m o3d\u001b[39m.\u001b[39mt\u001b[39m.\u001b[39mgeometry\u001b[39m.\u001b[39mPointCloud([[\u001b[39m0.\u001b[39m, \u001b[39m0.\u001b[39m, \u001b[39m0.\u001b[39m], [\u001b[39m1.\u001b[39m, \u001b[39m1.\u001b[39m, \u001b[39m1.\u001b[39m]])\n\u001b[1;32m     <a href='vscode-notebook-cell://attached-container%2B7b22636f6e7461696e65724e616d65223a222f6f70656e3364227d/root/Open3D/docs/jupyter/t_geometry/pointcloud.ipynb#W2sdnNjb2RlLXJlbW90ZQ%3D%3D?line=23'>24</a>\u001b[0m \u001b[39mprint\u001b[39m(pcd)\n\u001b[0;32m---> <a href='vscode-notebook-cell://attached-container%2B7b22636f6e7461696e65724e616d65223a222f6f70656e3364227d/root/Open3D/docs/jupyter/t_geometry/pointcloud.ipynb#W2sdnNjb2RlLXJlbW90ZQ%3D%3D?line=25'>26</a>\u001b[0m pcd \u001b[39m=\u001b[39m o3d\u001b[39m.\u001b[39;49mt\u001b[39m.\u001b[39;49mgeometry\u001b[39m.\u001b[39;49mPointCloud(o3c\u001b[39m.\u001b[39;49mTensor([\u001b[39m0\u001b[39;49m, \u001b[39m0\u001b[39;49m, \u001b[39m0\u001b[39;49m, \u001b[39m0\u001b[39;49m], o3c\u001b[39m.\u001b[39;49mfloat32))\n",
      "\u001b[0;31mRuntimeError\u001b[0m: \u001b[1;31m[Open3D Error] (open3d::t::geometry::PointCloud::PointCloud(const open3d::core::Tensor&)) /root/Open3D/cpp/open3d/t/geometry/PointCloud.cpp:72: Tensor has shape {4}, but is expected to have compatible with {None, 3}.\n\u001b[0;m"
     ]
    }
   ],
   "source": [
    "# Create a empty point cloud on CPU.\n",
    "pcd = o3d.t.geometry.PointCloud()\n",
    "print(pcd)\n",
    "# Create a empty point cloud on GPU.\n",
    "pcd = o3d.t.geometry.PointCloud(o3c.Device(\"CUDA:0\"))\n",
    "print(pcd)\n",
    "\n",
    "# Create a point cloud from open3d tensor.\n",
    "pcd = o3d.t.geometry.PointCloud(o3c.Tensor([[0, 0, 0], [1, 1, 1]], o3c.float32))\n",
    "print(pcd)\n",
    "# Create a point cloud from open3d tensor with float64.\n",
    "pcd = o3d.t.geometry.PointCloud(o3c.Tensor([[0, 0, 0], [1, 1, 1]], o3c.float64))\n",
    "print(pcd)\n",
    "# Create a point cloud from open3d tensor on GPU.\n",
    "pcd = o3d.t.geometry.PointCloud(o3c.Tensor([[0, 0, 0], [1, 1, 1]], o3c.float32, o3c.Device(\"CUDA:0\")))\n",
    "print(pcd)\n",
    "\n",
    "# Special creation.\n",
    "# Create a point cloud from numpy array.\n",
    "pcd = o3d.t.geometry.PointCloud(np.array([[0, 0, 0], [1, 1, 1]], dtype=np.float32))\n",
    "print(pcd)\n",
    "# Create a point cloud from python list.\n",
    "pcd = o3d.t.geometry.PointCloud([[0., 0., 0.], [1., 1., 1.]])\n",
    "print(pcd)\n",
    "\n",
    "# Error creation. The point cloud must have shape of (N, 3).\n",
    "pcd = o3d.t.geometry.PointCloud(o3c.Tensor([0, 0, 0, 0], o3c.float32))"
   ]
  },
  {
   "cell_type": "markdown",
   "metadata": {},
   "source": [
    "The `PointCloud` can be created on both CPU and GPU, and with different data types. The device of the point cloud will be the same as the device of the input tensor.\n",
    "\n",
    "Besides, `PointCloud` can be also created by `TensorMap` (concel) or python dict with multiple attributes. "
   ]
  },
  {
   "cell_type": "code",
   "execution_count": 42,
   "metadata": {},
   "outputs": [
    {
     "ename": "TypeError",
     "evalue": "__init__(): incompatible constructor arguments. The following argument types are supported:\n    1. open3d.cuda.pybind.t.geometry.PointCloud(device: open3d.cuda.pybind.core.Device = CPU:0)\n    2. open3d.cuda.pybind.t.geometry.PointCloud(positions: open3d.cuda.pybind.core.Tensor)\n    3. open3d.cuda.pybind.t.geometry.PointCloud(map_keys_to_tensors: Dict[str, open3d.cuda.pybind.core.Tensor])\n\nInvoked with: TensorMap(primary_key=\"positions\") with 3 attributes:\n  - labels   : shape={2}, dtype=Int64, device=CPU:0\n  - normals  : shape={2, 3}, dtype=Float32, device=CPU:0\n  - positions: shape={2, 3}, dtype=Float32, device=CPU:0 (primary)\n  (Use . to access attributes, e.g., tensor_map.positions)",
     "output_type": "error",
     "traceback": [
      "\u001b[0;31m---------------------------------------------------------------------------\u001b[0m",
      "\u001b[0;31mTypeError\u001b[0m                                 Traceback (most recent call last)",
      "\u001b[1;32m/root/Open3D/docs/jupyter/t_geometry/pointcloud.ipynb Cell 5\u001b[0m in \u001b[0;36m<cell line: 7>\u001b[0;34m()\u001b[0m\n\u001b[1;32m      <a href='vscode-notebook-cell://attached-container%2B7b22636f6e7461696e65724e616d65223a222f6f70656e3364227d/root/Open3D/docs/jupyter/t_geometry/pointcloud.ipynb#W4sdnNjb2RlLXJlbW90ZQ%3D%3D?line=3'>4</a>\u001b[0m map_to_tensors[\u001b[39m'\u001b[39m\u001b[39mnormals\u001b[39m\u001b[39m'\u001b[39m] \u001b[39m=\u001b[39m o3c\u001b[39m.\u001b[39mTensor([[\u001b[39m0\u001b[39m, \u001b[39m0\u001b[39m, \u001b[39m1\u001b[39m], [\u001b[39m0\u001b[39m, \u001b[39m0\u001b[39m, \u001b[39m1\u001b[39m]], o3c\u001b[39m.\u001b[39mfloat32)\n\u001b[1;32m      <a href='vscode-notebook-cell://attached-container%2B7b22636f6e7461696e65724e616d65223a222f6f70656e3364227d/root/Open3D/docs/jupyter/t_geometry/pointcloud.ipynb#W4sdnNjb2RlLXJlbW90ZQ%3D%3D?line=4'>5</a>\u001b[0m map_to_tensors[\u001b[39m'\u001b[39m\u001b[39mlabels\u001b[39m\u001b[39m'\u001b[39m] \u001b[39m=\u001b[39m o3c\u001b[39m.\u001b[39mTensor([\u001b[39m0\u001b[39m, \u001b[39m1\u001b[39m], o3c\u001b[39m.\u001b[39mint64)\n\u001b[0;32m----> <a href='vscode-notebook-cell://attached-container%2B7b22636f6e7461696e65724e616d65223a222f6f70656e3364227d/root/Open3D/docs/jupyter/t_geometry/pointcloud.ipynb#W4sdnNjb2RlLXJlbW90ZQ%3D%3D?line=6'>7</a>\u001b[0m pcd \u001b[39m=\u001b[39m o3d\u001b[39m.\u001b[39;49mt\u001b[39m.\u001b[39;49mgeometry\u001b[39m.\u001b[39;49mPointCloud(map_to_tensors)\n\u001b[1;32m      <a href='vscode-notebook-cell://attached-container%2B7b22636f6e7461696e65724e616d65223a222f6f70656e3364227d/root/Open3D/docs/jupyter/t_geometry/pointcloud.ipynb#W4sdnNjb2RlLXJlbW90ZQ%3D%3D?line=7'>8</a>\u001b[0m \u001b[39mprint\u001b[39m(pcd)\n",
      "\u001b[0;31mTypeError\u001b[0m: __init__(): incompatible constructor arguments. The following argument types are supported:\n    1. open3d.cuda.pybind.t.geometry.PointCloud(device: open3d.cuda.pybind.core.Device = CPU:0)\n    2. open3d.cuda.pybind.t.geometry.PointCloud(positions: open3d.cuda.pybind.core.Tensor)\n    3. open3d.cuda.pybind.t.geometry.PointCloud(map_keys_to_tensors: Dict[str, open3d.cuda.pybind.core.Tensor])\n\nInvoked with: TensorMap(primary_key=\"positions\") with 3 attributes:\n  - labels   : shape={2}, dtype=Int64, device=CPU:0\n  - normals  : shape={2, 3}, dtype=Float32, device=CPU:0\n  - positions: shape={2, 3}, dtype=Float32, device=CPU:0 (primary)\n  (Use . to access attributes, e.g., tensor_map.positions)"
     ]
    }
   ],
   "source": [
    "map_to_tensors = o3d.t.geometry.TensorMap('positions')\n",
    "# The `positions` attribute must be specified.\n",
    "map_to_tensors['positions'] = o3c.Tensor([[0, 0, 0], [1, 1, 1]], o3c.float32)\n",
    "map_to_tensors['normals'] = o3c.Tensor([[0, 0, 1], [0, 0, 1]], o3c.float32)\n",
    "map_to_tensors['labels'] = o3c.Tensor([0, 1], o3c.int64)\n",
    "\n",
    "pcd = o3d.t.geometry.PointCloud(map_to_tensors)\n",
    "print(pcd)\n",
    "\n"
   ]
  },
  {
   "cell_type": "markdown",
   "metadata": {},
   "source": [
    "## PointCloud attributes setter and getter"
   ]
  },
  {
   "cell_type": "code",
   "execution_count": 39,
   "metadata": {},
   "outputs": [
    {
     "name": "stdout",
     "output_type": "stream",
     "text": [
      "PointCloud on CPU:0 [2 points (Float32)] Attributes: labels (dtype = Int64, shape = {2}), colors (dtype = Float32, shape = {2, 3}), normals (dtype = Float32, shape = {2, 3}).\n",
      "PointCloud on CPU:0 [2 points (Float32)] Attributes: labels (dtype = Int64, shape = {2}), colors (dtype = Float32, shape = {2, 3}), normals (dtype = Float32, shape = {2, 3}), intensity (dtype = Float64, shape = {2}).\n",
      "\n",
      "[[0.0 0.0 0.0],\n",
      " [1.0 1.0 1.0]]\n",
      "Tensor[shape={2, 3}, stride={3, 1}, Float32, CPU:0, 0x557367a54960]\n",
      "[0 1]\n",
      "Tensor[shape={2}, stride={1}, Int64, CPU:0, 0x557387f77a70]\n",
      "TensorMap(primary_key=\"positions\") with 5 attributes:\n",
      "  - colors   : shape={2, 3}, dtype=Float32, device=CPU:0\n",
      "  - intensity: shape={2}, dtype=Float64, device=CPU:0\n",
      "  - labels   : shape={2}, dtype=Int64, device=CPU:0\n",
      "  - normals  : shape={2, 3}, dtype=Float32, device=CPU:0\n",
      "  - positions: shape={2, 3}, dtype=Float32, device=CPU:0 (primary)\n",
      "  (Use . to access attributes, e.g., tensor_map.positions)\n"
     ]
    }
   ],
   "source": [
    "pcd = o3d.t.geometry.PointCloud(o3c.Tensor([[0, 0, 0], [1, 1, 1]], o3c.float32))\n",
    "# Set attributes.\n",
    "pcd.point.normals = o3c.Tensor([[0, 0, 1], [0, 0, 1]], o3c.float32)\n",
    "pcd.point.colors = o3c.Tensor([[1, 0, 0], [0, 1, 0]], o3c.float32)\n",
    "pcd.point.labels = o3c.Tensor([0, 1], o3c.int64)\n",
    "print(pcd)\n",
    "\n",
    "# Set by numpy array or python list.\n",
    "pcd.point.normals = np.array([[0, 0, 1], [0, 0, 1]], dtype=np.float32)\n",
    "pcd.point.intensity = [0.4, 0.4]\n",
    "print(pcd)\n",
    "print('')\n",
    "\n",
    "# Get attributes.\n",
    "posisions = pcd.point.positions\n",
    "print(posisions)\n",
    "labels = pcd.point.labels\n",
    "print(labels)\n",
    "\n",
    "print(pcd.point)"
   ]
  }
 ],
 "metadata": {
  "kernelspec": {
   "display_name": "Python 3.8.13 ('open3d')",
   "language": "python",
   "name": "python3"
  },
  "language_info": {
   "codemirror_mode": {
    "name": "ipython",
    "version": 3
   },
   "file_extension": ".py",
   "mimetype": "text/x-python",
   "name": "python",
   "nbconvert_exporter": "python",
   "pygments_lexer": "ipython3",
   "version": "3.8.13"
  },
  "orig_nbformat": 4,
  "vscode": {
   "interpreter": {
    "hash": "d3ff712f491db3b4ccd20005f84e312b261650c105d83adbc3f83f5ecf60b94b"
   }
  }
 },
 "nbformat": 4,
 "nbformat_minor": 2
}
