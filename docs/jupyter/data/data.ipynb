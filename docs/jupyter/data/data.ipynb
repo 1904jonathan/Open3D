{
 "cells": [
  {
   "cell_type": "code",
   "execution_count": null,
   "id": "d115e851-bff7-4d2c-b6e9-efe3d0b9e25a",
   "metadata": {},
   "outputs": [],
   "source": [
    "import open3d as o3d\n",
    "import os\n",
    "import sys\n",
    "import shutil \n",
    "\n",
    "# only needed for tutorial, monkey patches visualization\n",
    "sys.path.append('..')\n",
    "import open3d_tutorial as o3dtut\n",
    "# change to True if you want to interact with the visualization windows\n",
    "o3dtut.interactive = not \"CI\" in os.environ"
   ]
  },
  {
   "cell_type": "code",
   "execution_count": null,
   "id": "6ac5d0bd",
   "metadata": {},
   "outputs": [],
   "source": [
    "def draw_geometry(geometry3D):\n",
    "    geometry3D.transform([[1, 0, 0, 0], [0, -1, 0, 0], [0, 0, -1, 0], [0, 0, 0, 1]])\n",
    "    o3d.visualization.draw_geometries([geometry3D])"
   ]
  },
  {
   "cell_type": "markdown",
   "id": "ae0715fb-a85e-4990-87d9-3f0e22a1bb14",
   "metadata": {
    "tags": []
   },
   "source": [
    "# Data Module\n",
    "\n",
    "Open3D provides `open3d.data` module for convenient access to built-in\n",
    "example and test data. You'll need internet access to use the data module.\n",
    "The downloaded data will be stored in the Open3D's data root directory.\n",
    "\n",
    "A dataset class locates the data root directory in the following order:\n",
    "\n",
    "1. User-specified by ``data_root`` when instantiating a dataset object.\n",
    "2. OPEN3D_DATA_ROOT environment variable.\n",
    "3. $HOME/open3d_data.\n",
    "\n",
    "By default, (3) will be used, and it is also the recommended way."
   ]
  },
  {
   "cell_type": "code",
   "execution_count": null,
   "id": "f5986e01-88ca-439e-98d0-0d48bfb9ea86",
   "metadata": {},
   "outputs": [],
   "source": [
    "# The default prefix for the following example is `EaglePointCloud`.\n",
    "eagle_data = o3d.data.EaglePointCloud()\n",
    "print(\"Prefix: \", eagle_data.prefix)\n",
    "\n",
    "# So, this will download the `EaglePointCloud.ply` data in \n",
    "# `$HOME/open3d_data/download/EaglePointCloud/`, and copy the same to\n",
    "# `$HOME/open3d_data/extract/EaglePointCloud/`.\n",
    "print(\"Data root: \", eagle_data.data_root)\n",
    "print(\"Download dir: \", eagle_data.download_dir)\n",
    "print(\"Extract dir: \", eagle_data.extract_dir)"
   ]
  },
  {
   "cell_type": "code",
   "execution_count": null,
   "id": "e6d88b00-fdba-4063-a2bb-92dfd27ef5b2",
   "metadata": {},
   "outputs": [],
   "source": [
    "# We can override the default prefix, and data_root.\n",
    "eagle_custom = o3d.data.EaglePointCloud(\"CustomPrefix\", \n",
    "                                        \"/home/rey/custom_data_root\")\n",
    "print(\"Prefix: \", eagle_custom.prefix)\n",
    "\n",
    "# So, this will download the `EaglePointCloud.ply` data in \n",
    "# `/my/path/to/data_root/download/CustomPrefix/`, and copy the same to\n",
    "# `/my/path/to/data_root/extract/CustomPrefix/`.\n",
    "print(\"Data root: \", eagle_custom.data_root)\n",
    "print(\"Download dir: \", eagle_custom.download_dir)\n",
    "print(\"Extract dir: \", eagle_custom.extract_dir)"
   ]
  },
  {
   "cell_type": "code",
   "execution_count": null,
   "id": "b475917e-d46f-4742-b361-831464cd2d55",
   "metadata": {},
   "outputs": [],
   "source": [
    "# If the extracted data directory exists, the files will\n",
    "# be used without validation. \n",
    "print(\"Extract dir. exists ? \", \n",
    "      os.path.isdir(eagle_data.extract_dir))\n",
    "eagle_data = o3d.data.EaglePointCloud()"
   ]
  },
  {
   "cell_type": "code",
   "execution_count": null,
   "id": "a3a759a3-2eed-4fa2-9dc2-a9013d53f387",
   "metadata": {},
   "outputs": [],
   "source": [
    "# If it does not exist, and the valid downloaded file exists, \n",
    "# the data will be extracted from the downloaded file. \n",
    "shutil.rmtree(eagle_data.extract_dir, ignore_errors=True)\n",
    "print(\"Extract dir. exists ? \", \n",
    "      os.path.isdir(eagle_data.extract_dir))\n",
    "print(\"Download dir. exists ? \", \n",
    "      os.path.isdir(eagle_data.download_dir))\n",
    "\n",
    "eagle_data = o3d.data.EaglePointCloud()"
   ]
  },
  {
   "cell_type": "code",
   "execution_count": null,
   "id": "20cbf264-75c8-48b0-9b10-6161f73d9627",
   "metadata": {},
   "outputs": [],
   "source": [
    "# If the downloaded file does not exist or validates against\n",
    "# the provided MD5, it will be re-downloaded.\n",
    "shutil.rmtree(eagle_data.extract_dir, ignore_errors=True)\n",
    "shutil.rmtree(eagle_data.download_dir, ignore_errors=True)\n",
    "print(\"Extract dir. exists ? \", \n",
    "      os.path.isdir(eagle_data.extract_dir))\n",
    "print(\"Download dir. exists ? \", \n",
    "      os.path.isdir(eagle_data.download_dir))\n",
    "\n",
    "eagle_data = o3d.data.EaglePointCloud()"
   ]
  },
  {
   "cell_type": "code",
   "execution_count": null,
   "id": "2174b73f-4b35-44e8-89b5-7a4e81473e00",
   "metadata": {},
   "outputs": [],
   "source": [
    "# The dataset object will NOT load the data for you. \n",
    "# Instead, you will get the paths to the data files and \n",
    "# use Open3D's I/O functions to load the data.\n",
    "pcd = o3d.io.read_point_cloud(eagle_data.path)\n",
    "\n",
    "draw_geometry(pcd)"
   ]
  },
  {
   "cell_type": "markdown",
   "id": "e3f26b2b-f9fc-40cf-8de6-6a1887c46124",
   "metadata": {},
   "source": [
    "Summary\n",
    "\n",
    "When a dataset object is instantiated, the corresponding data will be downloaded in `${data_root}/download/prefix/` and extracted or copied to `${data_root}/extract/prefix/`. The default `${data_root}` location is `$HOME/open3d_data`. If the extracted data directory exists, the files will be used without validation. If it does not exist, and the valid downloaded file exists, the data will be extracted from the downloaded file. If the downloaded file does not exist or validates against the provided MD5, it will be re-downloaded.\n",
    "\n",
    "After the data is downloaded and extracted, the dataset object will NOT load the data for you. Instead, you will get the paths to the data files and use Open3D's I/O functions to load the data. This design exposes where the data is stored and how the data is loaded, allowing users to modify the code and load their own data in a similar way. Please check the documentation of the specific dataset to know more about the specific functionalities provided for it."
   ]
  },
  {
   "cell_type": "markdown",
   "id": "c175d2a4",
   "metadata": {},
   "source": [
    "## Point Cloud Data\n",
    "\n",
    "### SamplePointCloudPCD\n",
    "Data class for `SamplePointCloudPCD` contains the `fragment.pcd` colored point cloud mesh from the `Redwood Living Room` dataset.\n",
    "\n",
    "[Reference to use this data](../geometry/pointcloud.html#Plane-segmentation)"
   ]
  },
  {
   "cell_type": "code",
   "execution_count": null,
   "id": "7aa7bd7d",
   "metadata": {},
   "outputs": [],
   "source": [
    "sample_pcd_data = o3d.data.SamplePointCloudPCD()\n",
    "pcd = o3d.io.read_point_cloud(sample_pcd_data.path)\n",
    "\n",
    "draw_geometry(pcd)"
   ]
  },
  {
   "cell_type": "markdown",
   "id": "73679270",
   "metadata": {},
   "source": [
    "### SamplePointCloudPLY\n",
    "Data class for `SamplePointCloudPLY` contains the `fragment.ply` colored point cloud mesh from the `Redwood Living Room` dataset.\n",
    "\n",
    "[Reference to use this data](../geometry/pointcloud.html#Visualize-point-cloud)"
   ]
  },
  {
   "cell_type": "code",
   "execution_count": null,
   "id": "8e36fad5",
   "metadata": {},
   "outputs": [],
   "source": [
    "sample_ply_data = o3d.data.SamplePointCloudPLY()\n",
    "pcd = o3d.io.read_point_cloud(sample_ply_data.path)\n",
    "\n",
    "draw_geometry(pcd)"
   ]
  },
  {
   "cell_type": "markdown",
   "id": "61f97642",
   "metadata": {},
   "source": [
    "### EaglePointCloud\n",
    "Data class for `SamplePoinEaglePointCloudtCloudPLY` contains the `EaglePointCloud.ply` colored point cloud mesh."
   ]
  },
  {
   "cell_type": "code",
   "execution_count": null,
   "id": "0fb20a1e",
   "metadata": {},
   "outputs": [],
   "source": [
    "eagle_data = o3d.data.EaglePointCloud()\n",
    "pcd = o3d.io.read_point_cloud(eagle_data.path)\n",
    "\n",
    "draw_geometry(pcd)"
   ]
  },
  {
   "cell_type": "markdown",
   "id": "b6c87565",
   "metadata": {},
   "source": [
    "### RedwoodLivingRoomPointClouds\n",
    "Dataset class for `RedwoodLivingRoomPointClouds` contains 57 point clouds of binary PLY format.\n",
    "\n",
    "Content:\n",
    "\n",
    "        livingroom1-fragments-ply.zip\n",
    "                ├── cloud_bin_0.ply\n",
    "                ├── cloud_bin_1.ply\n",
    "                ├── ...\n",
    "                └── cloud_bin_56.ply\n",
    "\n",
    "`paths` returns the list of paths to these poin cloud fragments. \n",
    "Example: Use `paths[0]` to access `cloud_bin_0.ply`."
   ]
  },
  {
   "cell_type": "markdown",
   "id": "7a075292",
   "metadata": {},
   "source": [
    "```python\n",
    "pcd_fragments_data = o3d.data.RedwoodLivingRoomPointClouds()\n",
    "for path in pcd_fragments_data.paths:\n",
    "    pcd = o3d.io.read_point_cloud(path)\n",
    "    # o3d.visualization.draw(pcd)\n",
    "```"
   ]
  },
  {
   "cell_type": "markdown",
   "id": "5b5052f5",
   "metadata": {},
   "source": [
    "### RedwoodOfficePointClouds\n",
    "Dataset class for `RedwoodOfficePointClouds` contains 53 point clouds of binary PLY format.\n",
    "\n",
    "Content:\n",
    "\n",
    "        office1-fragments-ply.zip\n",
    "                ├── cloud_bin_0.ply\n",
    "                ├── cloud_bin_1.ply\n",
    "                ├── ...\n",
    "                └── cloud_bin_52.ply\n",
    "\n",
    "`paths` returns the list of paths to these poin cloud fragments. \n",
    "Example: Use paths[0] to access `cloud_bin_0.ply`."
   ]
  },
  {
   "cell_type": "markdown",
   "id": "79677ec6",
   "metadata": {},
   "source": [
    "```python\n",
    "pcd_fragments_data = o3d.data.RedwoodOfficePointClouds()\n",
    "for path in pcd_fragments_data.paths:\n",
    "    pcd = o3d.io.read_point_cloud(pcd_fragments_data.path)\n",
    "    # o3d.visualization.draw(pcd)\n",
    "```"
   ]
  },
  {
   "cell_type": "markdown",
   "id": "d7a9f521",
   "metadata": {},
   "source": [
    "## Triangle Mesh Data\n",
    "\n",
    "### BunnyMesh\n",
    "Data class for `BunnyMesh` contains the `BunnyMesh.ply` triangle mesh from the `Stanford 3D Scanning Repository`.\n",
    "\n",
    "[Reference to use this data](../geometry/mesh.html#Connected-components)"
   ]
  },
  {
   "cell_type": "code",
   "execution_count": null,
   "id": "95201c1a",
   "metadata": {},
   "outputs": [],
   "source": [
    "bunny_data = o3d.data.BunnyMesh()\n",
    "mesh = o3d.io.read_triangle_mesh(bunny_data.path)\n",
    "mesh.compute_vertex_normals()\n",
    "o3d.visualization.draw_geometries([mesh])"
   ]
  },
  {
   "cell_type": "markdown",
   "id": "f448be32",
   "metadata": {},
   "source": [
    "### Armadillo\n",
    "\n",
    "Data class for `ArmadilloMesh` contains the `ArmadilloMesh.ply` triangle mesh from the `Stanford 3D Scanning Repository`.\n",
    "\n",
    "[Reference to use this data](../geometry/mesh.html#Mesh)"
   ]
  },
  {
   "cell_type": "code",
   "execution_count": null,
   "id": "3f08dbc1",
   "metadata": {},
   "outputs": [],
   "source": [
    "armadillo_data = o3d.data.ArmadilloMesh()\n",
    "mesh = o3d.io.read_triangle_mesh(armadillo_data.path)\n",
    "mesh.compute_vertex_normals()\n",
    "o3d.visualization.draw_geometries([mesh])"
   ]
  },
  {
   "cell_type": "markdown",
   "id": "57f11574",
   "metadata": {},
   "source": [
    "### KnotMesh\n",
    "\n",
    "Data class for `KnotMesh` contains the `KnotMesh.ply` triangle mesh.\n",
    "\n",
    "[Reference to use this data](../geometry/mesh.html#Mesh)"
   ]
  },
  {
   "cell_type": "code",
   "execution_count": null,
   "id": "b43b0e54",
   "metadata": {},
   "outputs": [],
   "source": [
    "knot_data = o3d.data.KnotMesh()\n",
    "mesh = o3d.io.read_triangle_mesh(knot_data.path)\n",
    "mesh.compute_vertex_normals()\n",
    "o3d.visualization.draw_geometries([mesh])"
   ]
  },
  {
   "cell_type": "markdown",
   "id": "e372db3d",
   "metadata": {},
   "source": [
    "## RGB-D Data\n",
    "\n",
    "### SampleRGBDImageRedwood\n",
    "Data class for `SampleRGBDDatasetRedwood` contains a sample set of 5 color and depth images from Redwood RGBD dataset living-room1. Additionally it also contains camera trajectory log, camera odometry log, rgbd match, and point cloud reconstruction obtained using TSDF.\n",
    "\n",
    "[Reference to use this data](../geometry/rgbd_image.html#Redwood-dataset)"
   ]
  },
  {
   "cell_type": "code",
   "execution_count": null,
   "id": "2005db31",
   "metadata": {},
   "outputs": [],
   "source": [
    "rgbd_redwood = o3d.data.SampleRGBDDatasetRedwood()\n",
    "\n",
    "for idx in range(len(rgbd_redwood.depth_paths)):\n",
    "    color_raw = o3d.io.read_image(rgbd_redwood.color_paths[idx])\n",
    "    depth_raw = o3d.io.read_image(rgbd_redwood.depth_paths[idx])\n",
    "    rgbd_image = o3d.geometry.RGBDImage.create_from_color_and_depth(\n",
    "        color_raw, depth_raw)\n",
    "    print(rgbd_image)\n",
    "\n",
    "pcd = o3d.io.read_point_cloud(rgbd_redwood.reconstruction_path)\n",
    "draw_geometry(pcd)"
   ]
  },
  {
   "cell_type": "markdown",
   "id": "40ccb8c3",
   "metadata": {},
   "source": [
    "### SampleFountainRGBDDataset\n",
    "Data class for `SampleFountainRGBDDataset` contains a sample set of 33 color and depth images from the `Fountain RGBD dataset`. It also contains `camera poses at keyframes log` and `mesh reconstruction`. It is used in demo of `Color Map Optimization`.\n",
    "\n",
    "[Reference to use this data](../pipelines/color_map_optimization.html#Input)"
   ]
  },
  {
   "cell_type": "markdown",
   "id": "45aedf99",
   "metadata": {},
   "source": [
    "### SampleRGBDImageNYU\n",
    "Data class for `SampleRGBDImageNYU` contains a color image `NYU_color.ppm` and a depth image `NYU_depth.pgm` sample from NYU RGBD  dataset.\n",
    "\n",
    "[Reference to use this data](../geometry/rgbd_image.html#NYU-dataset)"
   ]
  },
  {
   "cell_type": "markdown",
   "id": "e8e51ccf",
   "metadata": {},
   "source": [
    "### SampleRGBDImageSUN\n",
    "Data class for `SampleRGBDImageSUN` contains a color image `SUN_color.jpg` and a depth image `SUN_depth.png` sample from SUN RGBD dataset.\n",
    "\n",
    "[Reference to use this data](../geometry/rgbd_image.html#SUN-dataset)"
   ]
  },
  {
   "cell_type": "markdown",
   "id": "8d79215d",
   "metadata": {},
   "source": [
    "### SampleRGBDImageTUM\n",
    "Data class for `SampleRGBDImageTUM` contains a color image `TUM_color.png` and a depth image `TUM_depth.png` sample from TUM RGBD dataset.\n",
    "\n",
    "[Reference to use this data](../geometry/rgbd_image.html#TUM-dataset)"
   ]
  },
  {
   "cell_type": "markdown",
   "id": "60690017",
   "metadata": {},
   "source": [
    "## Image Data\n",
    "\n",
    "### JuneauImage\n",
    "Data class for `JuneauImage` contains the `JuneauImage.jpg` file.\n",
    "\n",
    "[Reference to use this data](../geometry/file_io.html#Image)"
   ]
  },
  {
   "cell_type": "code",
   "execution_count": null,
   "id": "8e347106",
   "metadata": {},
   "outputs": [],
   "source": [
    "img_data = o3d.data.JuneauImage()\n",
    "img = o3d.io.read_image(img_data.path)\n",
    "print(img)"
   ]
  },
  {
   "cell_type": "markdown",
   "id": "aa51eb4a",
   "metadata": {},
   "source": [
    "## Demo Data"
   ]
  },
  {
   "cell_type": "markdown",
   "id": "da4ceffd",
   "metadata": {},
   "source": [
    "### DemoICPPointClouds\n",
    "\n",
    "Data class for `DemoICPPointClouds` contains 3 point clouds of binary PCD format. This data is used in Open3D for ICP demo.\n",
    "\n",
    "[Reference to use this data](../pipelines/icp_registration.html#Input)"
   ]
  },
  {
   "cell_type": "markdown",
   "id": "6e796410",
   "metadata": {},
   "source": [
    "### DemoColoredICPPointClouds\n",
    "Data class for `DemoColoredICPPointClouds` contains 2 point clouds of PLY format. This data is used in Open3D for Colored-ICP demo.\n",
    "\n",
    "[Reference to use this data](../pipelines/colored_pointcloud_registration.html#Input)"
   ]
  },
  {
   "cell_type": "markdown",
   "id": "f4f68894",
   "metadata": {},
   "source": [
    "### DemoCropPointCloud\n",
    "Data class for `DemoCropPointCloud` contains a point cloud, and `cropped.json` (a saved selected polygon volume file). This data is used in Open3D for point cloud crop demo.\n",
    "\n",
    "[Reference to use this data](../geometry/pointcloud.html#Crop-point-cloud)"
   ]
  },
  {
   "cell_type": "markdown",
   "id": "cf6fffbb",
   "metadata": {},
   "source": [
    "### DemoPointCloudFeatureMatching\n",
    "\n",
    "Data class for `DemoPointCloudFeatureMatching` contains 2 point cloud fragments and their respective FPFH features and L32D features. This data is used in Open3D for point cloud feature matching demo."
   ]
  },
  {
   "cell_type": "markdown",
   "id": "37b75a32",
   "metadata": {},
   "source": [
    "### DemoPoseGraphOptimization\n",
    "\n",
    "Data class for `DemoPoseGraphOptimization` contains an example fragment pose graph, and global pose graph. This data is used in Open3D for pose graph optimization demo."
   ]
  }
 ],
 "metadata": {
  "kernelspec": {
   "display_name": "Python 3 (ipykernel)",
   "language": "python",
   "name": "python3"
  },
  "language_info": {
   "codemirror_mode": {
    "name": "ipython",
    "version": 3
   },
   "file_extension": ".py",
   "mimetype": "text/x-python",
   "name": "python",
   "nbconvert_exporter": "python",
   "pygments_lexer": "ipython3",
   "version": "3.8.11"
  }
 },
 "nbformat": 4,
 "nbformat_minor": 5
}
