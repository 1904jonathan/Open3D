{
 "cells": [
  {
   "cell_type": "code",
   "execution_count": null,
   "id": "e3f2dca2-1ec3-4ddd-9136-a116c25822d7",
   "metadata": {},
   "outputs": [],
   "source": [
    "import open3d as o3d"
   ]
  },
  {
   "cell_type": "code",
   "execution_count": null,
   "id": "cbcbd57c-54e1-4b99-a133-72c6555ba21f",
   "metadata": {},
   "outputs": [],
   "source": [
    "widget = o3d.WebVisualizer()"
   ]
  },
  {
   "cell_type": "code",
   "execution_count": null,
   "id": "c74f6593-148c-4277-a1cc-507214cc357a",
   "metadata": {},
   "outputs": [],
   "source": [
    "widget.show()"
   ]
  },
  {
   "cell_type": "code",
   "execution_count": null,
   "id": "fcb042e1-0ecf-4d8e-9fe5-43003cabde13",
   "metadata": {},
   "outputs": [],
   "source": []
  }
 ],
 "metadata": {
  "kernelspec": {
   "display_name": "Python 3",
   "language": "python",
   "name": "python3"
  },
  "language_info": {
   "codemirror_mode": {
    "name": "ipython",
    "version": 3
   },
   "file_extension": ".py",
   "mimetype": "text/x-python",
   "name": "python",
   "nbconvert_exporter": "python",
   "pygments_lexer": "ipython3",
   "version": "3.8.6"
  }
 },
 "nbformat": 4,
 "nbformat_minor": 5
}
