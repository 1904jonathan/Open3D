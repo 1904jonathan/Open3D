{
 "cells": [
  {
   "cell_type": "code",
   "execution_count": 1,
   "metadata": {},
   "outputs": [],
   "source": [
    "import numpy as np\n",
    "import open3d as o3d\n",
    "import os\n",
    "import sys\n",
    "\n",
    "# monkey patches visualization and provides helpers to load geometries\n",
    "sys.path.append('..')\n",
    "import open3d_tutorial as o3dtut\n",
    "# change to True if you want to interact with the visualization windows\n",
    "o3dtut.interactive = not \"CI\" in os.environ"
   ]
  },
  {
   "cell_type": "markdown",
   "metadata": {},
   "source": [
    "# Half Edge Mesh\n",
    "\n",
    "This tutorial outlines the following:\n",
    "1. How to use `visualization.RenderOption` to render the backface of a mesh.\n",
    "2. How to use `geometry.AxisAlignedBoundingBox` to crop a mesh. \n",
    "3. How to use `utility.Vector3dVector` colorize boundary vertices of a mesh to red. "
   ]
  },
  {
   "cell_type": "code",
   "execution_count": 2,
   "metadata": {},
   "outputs": [],
   "source": [
    "def draw_geometries_with_back_face(geometries):\n",
    "    visualizer = o3d.visualization.Visualizer()\n",
    "    visualizer.create_window()\n",
    "    render_option = visualizer.get_render_option()\n",
    "    render_option.mesh_show_back_face = True\n",
    "    for geometry in geometries:\n",
    "        visualizer.add_geometry(geometry)\n",
    "    visualizer.run()\n",
    "    visualizer.destroy_window()"
   ]
  },
  {
   "cell_type": "markdown",
   "metadata": {},
   "source": [
    "## Render the backface of a Mesh\n",
    "\n",
    "The `draw_geometries_with_back_face` function is responsible for instantiating a `Visualizer` and modifying `RenderOption` to render the backface of a mesh. The `RenderOption` object is retrieved by a call to `get_render_option` and to have the `Visualizer` render the backface of a mesh, `mesh_show_back_face` is set `True`."
   ]
  },
  {
   "cell_type": "code",
   "execution_count": 3,
   "metadata": {},
   "outputs": [],
   "source": [
    "# Initialize a HalfEdgeTriangleMesh from TriangleMesh\n",
    "mesh = o3d.io.read_triangle_mesh(\"../../test_data/sphere.ply\")\n",
    "bbox = o3d.geometry.AxisAlignedBoundingBox()\n",
    "bbox.min_bound = [-1, -1, -1]\n",
    "bbox.max_bound = [1, 0.6, 1]\n",
    "mesh = mesh.crop(bbox)\n",
    "het_mesh = o3d.geometry.HalfEdgeTriangleMesh.create_from_triangle_mesh(mesh)\n",
    "draw_geometries_with_back_face([het_mesh])"
   ]
  },
  {
   "cell_type": "markdown",
   "metadata": {},
   "source": [
    "## Cropping a Mesh\n",
    "\n",
    "`geometry.AxisAlignedBoundingBox` is used to create an axis aligned box. The parameters `min_bound` and `max_bound` take an array of cartesian coordinates (x,y,z) and define the size of the bounding box. The bounds are set such that the y-axis of the sphere mesh is cut by a call to `crop`."
   ]
  },
  {
   "cell_type": "code",
   "execution_count": 4,
   "metadata": {},
   "outputs": [],
   "source": [
    "# Colorize boundary vertices to red\n",
    "vertex_colors = 0.75 * np.ones((len(het_mesh.vertices), 3))\n",
    "for boundary in het_mesh.get_boundaries():\n",
    "    for vertex_id in boundary:\n",
    "        vertex_colors[vertex_id] = [1, 0, 0]\n",
    "het_mesh.vertex_colors = o3d.utility.Vector3dVector(vertex_colors)\n",
    "draw_geometries_with_back_face([het_mesh])"
   ]
  },
  {
   "cell_type": "markdown",
   "metadata": {},
   "source": [
    "## Colorize the Boundaries of a Mesh\n",
    "\n",
    "A call to `geometry.TriangleMesh.get_boundaries` returns a vector of boundaries, where each boundary is a vector of vertices. Each vertex color is represented by an RBG array and `Vector3dVector` is used to convert `vertex_colors` of shape (n, 3) to Open3D format. Finally, the vertex colors are set on the mesh."
   ]
  },
  {
   "cell_type": "code",
   "execution_count": null,
   "metadata": {},
   "outputs": [],
   "source": []
  }
 ],
 "metadata": {
  "kernelspec": {
   "display_name": "Python 3",
   "language": "python",
   "name": "python3"
  },
  "language_info": {
   "codemirror_mode": {
    "name": "ipython",
    "version": 3
   },
   "file_extension": ".py",
   "mimetype": "text/x-python",
   "name": "python",
   "nbconvert_exporter": "python",
   "pygments_lexer": "ipython3",
   "version": "3.7.7"
  }
 },
 "nbformat": 4,
 "nbformat_minor": 4
}
