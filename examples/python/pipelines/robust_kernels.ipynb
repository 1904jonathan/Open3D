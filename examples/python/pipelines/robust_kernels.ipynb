{
 "cells": [
  {
   "cell_type": "code",
   "execution_count": null,
   "metadata": {
    "nbsphinx": "hidden"
   },
   "outputs": [],
   "source": [
    "import open3d as o3d\n",
    "import numpy as np\n",
    "import copy\n",
    "import os\n",
    "import sys\n",
    "\n",
    "# monkey patches visualization and provides helpers to load geometries\n",
    "sys.path.append('..')\n",
    "import open3d_tutorial as o3dtut\n",
    "# change to True if you want to interact with the visualization windows\n",
    "o3dtut.interactive = not \"CI\" in os.environ"
   ]
  },
  {
   "cell_type": "markdown",
   "metadata": {},
   "source": [
    "# Robust Kernels \n",
    "\n",
    "This tutorial demonstrates the use of robust kernels in the context of outlier rejection. For this particular tutorial, we will be using the ICP (Iterative Closest Point) registration algorithm as the _target_ problem where we want to deal with outlier. Even so, the theory applies for any given optimization problem and not just for ICP. For the moment the robust kernels has been only implemented for the `PointToPlane` ICP.\n",
    "\n",
    "The notation and some of the kernels implemented in `Open3D` has been inspired by the publication \"Analysis of Robust Functions for Registration Algorithms\" [\\[Babin2019\\]](../reference.html#babin2019)"
   ]
  },
  {
   "cell_type": "code",
   "execution_count": null,
   "metadata": {},
   "outputs": [],
   "source": [
    "def draw_registration_result(source, target, transformation):\n",
    "    source_temp = copy.deepcopy(source)\n",
    "    target_temp = copy.deepcopy(target)\n",
    "    source_temp.paint_uniform_color([1, 0.706, 0])\n",
    "    target_temp.paint_uniform_color([0, 0.651, 0.929])\n",
    "    source_temp.transform(transformation)\n",
    "    o3d.visualization.draw_geometries([source_temp, target_temp],\n",
    "                                      zoom=0.4459,\n",
    "                                      front=[0.9288, -0.2951, -0.2242],\n",
    "                                      lookat=[1.6784, 2.0612, 1.4451],\n",
    "                                      up=[-0.3402, -0.9189, -0.1996])"
   ]
  },
  {
   "cell_type": "markdown",
   "metadata": {},
   "source": [
    "## Input\n",
    "The code below reads a source point cloud and a target point cloud from two files. A rough transformation is given.\n",
    "\n",
    "<div class=\"alert alert-info\">\n",
    "    \n",
    "**Note:** \n",
    "\n",
    "The initial alignment is usually obtained by a global registration algorithm. See [Global registration](../pipelines/global_registration.rst) for examples.\n",
    "\n",
    "</div>"
   ]
  },
  {
   "cell_type": "code",
   "execution_count": null,
   "metadata": {},
   "outputs": [],
   "source": [
    "source = o3d.io.read_point_cloud(\"../../test_data/ICP/cloud_bin_0.pcd\")\n",
    "target = o3d.io.read_point_cloud(\"../../test_data/ICP/cloud_bin_1.pcd\")\n",
    "trans_init = np.asarray([[0.862, 0.011, -0.507, 0.5],\n",
    "                         [-0.139, 0.967, -0.215, 0.7],\n",
    "                         [0.487, 0.255, 0.835, -1.4], [0.0, 0.0, 0.0, 1.0]])\n",
    "draw_registration_result(source, target, trans_init)"
   ]
  },
  {
   "cell_type": "markdown",
   "metadata": {},
   "source": [
    "## Point-to-plane ICP using Robust Kernels\n",
    "$$\n",
    "\\def\\argmin{\\mathop{\\rm argmin}}\n",
    "\\newcommand{\\mat}[1]{\\mathbf{#1}}\n",
    "\\newcommand{\\veca}[1]{\\vec{#1}}\n",
    "\\renewcommand{\\vec}[1]{\\mathbf{#1}}\n",
    "$$\n",
    "The standard point-to-plane ICP algorithm [\\[ChenAndMedioni1992\\]](../reference.html#chenandmedioni1992) minimizes this objective function\n",
    "\n",
    "\\begin{equation}\n",
    "  E(\\mathbf{T}) = \\sum_{(\\mat{p},\\mat{q})\\in\\mathcal{K}}\\big((\\mat{p} - \\mat{T}\\mat{q})\\cdot\\mat{n}_{\\mat{p}}\\big)^{2},\n",
    "\\end{equation}\n",
    "\n",
    "where $\\mathbf{n}_{\\mathbf{p}}$ is the normal of point $\\mathbf{p}$ and $\\mathcal{K}$ is the correspondence set between the target point cloud $\\mathbf{P}$, and source point cloud $\\mathbf{Q}$.\n",
    "\n",
    "If we call $r_i(\\mat{T})$ is $i^\\mathrm{th}$ the residual, for a given pair of correspondences $(\\mat{p},\\mat{q})\\in\\mathcal{K}$ we can rewrite the objective function as.\n",
    "\n",
    "\\begin{equation}\n",
    "  E(\\mathbf{T}) = \\sum_{(\\mat{p},\\mat{q})\\in\\mathcal{K}}\\big((\\mat{p} - \\mat{T}\\mat{q})\\cdot\\mat{n}_{\\mat{p}}\\big)^{2} = \\sum_{i=1}^{N} \\big({r_i(\\mat{T})}\\big)^2\n",
    "\\end{equation}\n",
    "\n",
    "The optimization problem above can be also solved using the iteratively reweighted least squares (IRLS) approach, which solves a sequence of weighted least squares problems.\n",
    "\n",
    "\\begin{equation}\n",
    "  E(\\mathbf{T}) =  \\sum_{i=1}^{N} w_i \\big({r_i(\\mat{T})}\\big)^2\n",
    "\\end{equation}\n",
    "\n",
    "### Outlier Rejection with Robust Kernels\n",
    "\n",
    "The main idea of a robust loss is to downweight large residuals that are assumed to be caused from outliers such that their influence on the solution is reduced. This is achieved by optimizing $E(\\mat{T})$ as:\n",
    "\n",
    "\\begin{equation}\n",
    "  E(\\mathbf{T}) = \\sum_{(\\mat{p},\\mat{q})\\in\\mathcal{K}}\\rho\\big((\\mat{p} - \\mat{T}\\mat{q})\\cdot\\mat{n}_{\\mat{p}}\\big) = \\sum_{i=1}^{N} \\rho\\big({r_i(\\mat{T})}\\big),\n",
    "\\end{equation}\n",
    "\n",
    "where $\\rho(r)$ is also called the robust loss or kernel.\n",
    "\n",
    "We can see the relation between the least squares optimization in stanad weighted non-linear least squares and robust loss optimization. By setting the weight $w_i= \\frac{1}{r_i(\\mat{T})}\\rho'(r_i(\\mat{T}))$, we can solve the robust loss optimization problem by using the existing techniques for weighted least-squares.\n",
    "\n",
    "Then we minimize the objective function using Gauss-Newton and determine increments by iteratively solving:\n",
    "\n",
    "\\begin{align}\n",
    "\\left(\\mat{J}^\\top \\mat{W} \\mat{J}\\right)^{-1}\\mat{J}^\\top\\mat{W}\\vec{r},\n",
    "\\end{align}\n",
    "\n",
    "where $\\mat{W} \\in \\mathbb{R}^{N\\times N}$ is a diagonal matrix containing\n",
    "weights $w_i$ for each residual $r_i$\n",
    "\n",
    "### How to use it\n",
    "\n",
    "`registration_icp` is called with a different parameter `TransformationEstimationPointToPlane(loss)`. Where `loss` is a given loss function(also called robust kernel). \n",
    "\n",
    "Internally, `TransormationEstimationPointToPlane(loss)` implements functions to compute the weighted residuals and Jacobian matrices of the point-to-plane ICP objective according to the provided robust kernel."
   ]
  },
  {
   "cell_type": "markdown",
   "metadata": {},
   "source": [
    "<div class=\"alert alert-info\">\n",
    " \n",
    "**Note:** \n",
    "\n",
    "For more details on the ICP algorithm please see [ICP Registration](../pipelines/icp_registration.rst).\n",
    "\n",
    "</div>"
   ]
  },
  {
   "cell_type": "markdown",
   "metadata": {},
   "source": [
    "## Add Noise\n",
    "\n",
    "To better show the impact of the usage of robust kernels in the registration we add some artificially generated noise to the source point cloud.\n",
    "\n",
    "<div class=\"alert alert-info\">\n",
    "    \n",
    "**Note:** \n",
    "\n",
    "The parameter `k` used in the Robust Kernels it's usually pick to match the standard deviation of the noise model of the data. In this sense, `k`, is the discriminator between **inlier**/**outlier**. Altough this is not always trivial to define in real world data, for synthetic one, it's easy to fix in order to illustrate the benefits of the robust kernels.\n",
    "</div>"
   ]
  },
  {
   "cell_type": "code",
   "execution_count": null,
   "metadata": {},
   "outputs": [],
   "source": [
    "def apply_noise(pcd, mu, sigma):\n",
    "    noisy_pcd = copy.deepcopy(pcd)\n",
    "    points = np.asarray(noisy_pcd.points)\n",
    "    points += np.random.normal(mu, sigma, size=points.shape)\n",
    "    noisy_pcd.points = o3d.utility.Vector3dVector(points)\n",
    "    return noisy_pcd\n",
    "\n",
    "\n",
    "# Add Gaussian noise to the input data\n",
    "mu, sigma = 0, 0.1  # mean and standard deviation\n",
    "source_noisy = apply_noise(source, mu, sigma)\n",
    "print(\"Source PointCloud + noise:\")\n",
    "o3d.visualization.draw_geometries([source_noisy],\n",
    "                                  zoom=0.4459,\n",
    "                                  front=[0.9288, -0.2951, -0.2242],\n",
    "                                  lookat=[1.6784, 2.0612, 1.4451],\n",
    "                                  up=[-0.3402, -0.9189, -0.1996])"
   ]
  },
  {
   "cell_type": "code",
   "execution_count": null,
   "metadata": {},
   "outputs": [],
   "source": [
    "threshold = 0.02\n",
    "print(\"Vanilla point-to-plane ICP, threshold={} :\".format(threshold))\n",
    "p2l = o3d.pipelines.registration.TransformationEstimationPointToPlane()\n",
    "reg_p2l = o3d.pipelines.registration.registration_icp(source_noisy, target,\n",
    "                                                      threshold, trans_init,\n",
    "                                                      p2l)\n",
    "\n",
    "print(reg_p2l)\n",
    "print(\"Transformation is:\")\n",
    "print(reg_p2l.transformation)\n",
    "draw_registration_result(source, target, reg_p2l.transformation)"
   ]
  },
  {
   "cell_type": "markdown",
   "metadata": {},
   "source": [
    "## Tuning Vanilla ICP\n",
    "\n",
    "Given the fact that we are now dealing with noise, we need to increase the threshold to search for nearest neighbors.\n",
    "Without a robust kernel, the traditional ICP has no chance to deal with this outliers in a bigger search space."
   ]
  },
  {
   "cell_type": "code",
   "execution_count": null,
   "metadata": {},
   "outputs": [],
   "source": [
    "threshold = 1.0\n",
    "print(\"Vanilla point-to-plane ICP, threshold={} :\".format(threshold))\n",
    "p2l = o3d.pipelines.registration.TransformationEstimationPointToPlane()\n",
    "reg_p2l = o3d.pipelines.registration.registration_icp(source_noisy, target,\n",
    "                                                      threshold, trans_init,\n",
    "                                                      p2l)\n",
    "\n",
    "print(reg_p2l)\n",
    "print(\"Transformation is:\")\n",
    "print(reg_p2l.transformation)\n",
    "draw_registration_result(source, target, reg_p2l.transformation)"
   ]
  },
  {
   "cell_type": "markdown",
   "metadata": {},
   "source": [
    "## Reject Noise Outliers\n",
    "\n",
    "Using the bigger `threshold` (set to `1.0`) + a robust kernel, we can properly register the two `PointClouds`:\n",
    "\n",
    "<div class=\"alert alert-info\">\n",
    "    \n",
    "**Note:** \n",
    "\n",
    "For this example we use the **TukeyLoss**, available in `open3d.pipelines.registration.TukeyLoss`. For the parameter `k` we set it to match the std deviation of the noise model $k = \\sigma$.\n",
    "\n",
    "</div>"
   ]
  },
  {
   "cell_type": "code",
   "execution_count": null,
   "metadata": {},
   "outputs": [],
   "source": [
    "print(\"Robust point-to-plane ICP, threshold={} :\".format(threshold))\n",
    "loss = o3d.pipelines.registration.TukeyLoss(k=sigma)\n",
    "print(\"Using robust loss:\", loss)\n",
    "p2l = o3d.pipelines.registration.TransformationEstimationPointToPlane(loss)\n",
    "reg_p2l = o3d.pipelines.registration.registration_icp(source_noisy, target,\n",
    "                                                      threshold, trans_init,\n",
    "                                                      p2l)\n",
    "print(reg_p2l)\n",
    "print(\"Transformation is:\")\n",
    "print(reg_p2l.transformation)\n",
    "draw_registration_result(source, target, reg_p2l.transformation)"
   ]
  }
 ],
 "metadata": {
  "celltoolbar": "Edit Metadata",
  "kernelspec": {
   "display_name": "Python 3",
   "language": "python",
   "name": "python3"
  },
  "language_info": {
   "codemirror_mode": {
    "name": "ipython",
    "version": 3
   },
   "file_extension": ".py",
   "mimetype": "text/x-python",
   "name": "python",
   "nbconvert_exporter": "python",
   "pygments_lexer": "ipython3",
   "version": "3.6.9"
  }
 },
 "nbformat": 4,
 "nbformat_minor": 2
}
