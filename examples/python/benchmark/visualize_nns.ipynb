{
 "cells": [
  {
   "cell_type": "code",
   "execution_count": null,
   "metadata": {},
   "outputs": [],
   "source": [
    "import numpy as np\n",
    "import matplotlib.pyplot as plt\n",
    "from matplotlib.gridspec import SubplotSpec\n",
    "import pickle"
   ]
  },
  {
   "cell_type": "code",
   "execution_count": null,
   "metadata": {},
   "outputs": [],
   "source": [
    "methods = ['O3DKnn', 'O3DKnnCPU']\n",
    "files = []\n",
    "for m in methods:\n",
    "    with open(f'{m}.pkl', 'rb') as f:\n",
    "        file = pickle.load(f)\n",
    "        files.append(file)"
   ]
  },
  {
   "cell_type": "code",
   "execution_count": null,
   "metadata": {},
   "outputs": [],
   "source": [
    "experiments = list(files[0].keys())\n",
    "exp_k1 = [e for e in experiments if \"k=1\" in e]\n",
    "exp_k37 = [e for e in experiments if \"k=37\" in e]\n",
    "exp_k64 = [e for e in experiments if \"k=64\" in e]"
   ]
  },
  {
   "cell_type": "code",
   "execution_count": null,
   "metadata": {},
   "outputs": [],
   "source": [
    "def create_subtitle(fig: plt.Figure, grid: SubplotSpec, title: str):\n",
    "    \"Sign sets of subplots with title\"\n",
    "    row = fig.add_subplot(grid)\n",
    "    # the '\\n' is important\n",
    "    row.set_title(f'{title}\\n', fontweight='semibold')\n",
    "    # hide subplot\n",
    "    row.set_frame_on(False)\n",
    "    row.axis('off')\n",
    "\n",
    "\n",
    "rows = len(experiments) // 5\n",
    "cols = 3\n",
    "fig, axs = plt.subplots(rows, cols, figsize=(18, 4 * rows))\n",
    "grid = plt.GridSpec(rows, cols)\n",
    "for i in range(0, rows):\n",
    "    ax1 = axs[i][0]\n",
    "    ax2 = axs[i][1]\n",
    "    ax3 = axs[i][2]\n",
    "    title = experiments[i * 5].split(\" \")\n",
    "    title = \" \".join([title[0], title[2]])\n",
    "    create_subtitle(fig, grid[i, ::], title)\n",
    "    for file, method in zip(files, methods):\n",
    "        xs, t_setup, t_search, t_total = [], [], [], []\n",
    "        for e in experiments[i * 5:i * 5 + 5]:\n",
    "            f = file[e]\n",
    "            print(e)\n",
    "            xs.append(f['num_points'])\n",
    "            _t_setup = np.median(f['knn_setup'])\n",
    "            _t_search = np.median(f['knn_search'])\n",
    "            _t_total = _t_setup + _t_search\n",
    "            t_setup.append(_t_setup)\n",
    "            t_search.append(_t_search)\n",
    "            t_total.append(_t_total)\n",
    "        print(xs, t_setup, t_search, t_total)\n",
    "        ax1.set_title(\"setup time\")\n",
    "        ax1.plot(xs, t_setup, label=method)\n",
    "        ax1.set_xlabel(\"num points\")\n",
    "        ax1.set_ylabel(\"sec\")\n",
    "        ax2.set_title(\"search time\")\n",
    "        ax2.set_xlabel(\"num points\")\n",
    "        ax2.set_ylabel(\"sec\")\n",
    "        ax2.plot(xs, t_search, label=method)\n",
    "        ax2.legend()\n",
    "        ax3.set_title(\"total time\")\n",
    "        ax3.set_xlabel(\"num points\")\n",
    "        ax3.set_ylabel(\"sec\")\n",
    "        ax3.plot(xs, t_total, label=method)\n",
    "\n",
    "fig.tight_layout()\n",
    "fig.set_facecolor('w')"
   ]
  },
  {
   "cell_type": "code",
   "execution_count": null,
   "metadata": {},
   "outputs": [],
   "source": [
    "rows = 3\n",
    "cols = 3\n",
    "fig, axs = plt.subplots(rows, cols, figsize=(18, 4 * rows))\n",
    "grid = plt.GridSpec(rows, cols)\n",
    "for i, (exp, title) in enumerate(\n",
    "        zip([exp_k1, exp_k37, exp_k64], [\"knn=1\", \"knn=37\", \"knn=64\"])):\n",
    "    ax1 = axs[i][0]\n",
    "    ax2 = axs[i][1]\n",
    "    ax3 = axs[i][2]\n",
    "    create_subtitle(fig, grid[i, ::], title)\n",
    "    for file, method in zip(files, methods):\n",
    "        xs, t_setup, t_search, t_total = [], [], [], []\n",
    "        for e in exp:\n",
    "            f = file[e]\n",
    "            xs.append(f['num_points'])\n",
    "            _t_setup = np.median(f['knn_setup'])\n",
    "            _t_search = np.median(f['knn_search'])\n",
    "            _t_total = _t_setup + _t_search\n",
    "            t_setup.append(_t_setup)\n",
    "            t_search.append(_t_search)\n",
    "            t_total.append(_t_total)\n",
    "\n",
    "        idx_sort = np.argsort(xs)\n",
    "        xs = np.array(xs)[idx_sort]\n",
    "        t_setup = np.log(t_setup)[idx_sort]\n",
    "        t_search = np.log(t_search)[idx_sort]\n",
    "        t_total = np.log(t_total)[idx_sort]\n",
    "        ax1.set_title(\"setup time\")\n",
    "        ax1.plot(xs, t_setup, label=method)\n",
    "        ax1.set_xlabel(\"num points\")\n",
    "        ax1.set_ylabel(\"sec\")\n",
    "        ax2.set_title(\"search time\")\n",
    "        ax2.set_xlabel(\"num points\")\n",
    "        ax2.set_ylabel(\"sec\")\n",
    "        ax2.plot(xs, t_search, label=method)\n",
    "        ax2.legend()\n",
    "        ax3.set_title(\"total time\")\n",
    "        ax3.set_xlabel(\"num points\")\n",
    "        ax3.set_ylabel(\"sec\")\n",
    "        ax3.plot(xs, t_total, label=method)\n",
    "\n",
    "fig.tight_layout()\n",
    "fig.set_facecolor('w')"
   ]
  },
  {
   "cell_type": "code",
   "execution_count": null,
   "metadata": {},
   "outputs": [],
   "source": []
  }
 ],
 "metadata": {
  "kernelspec": {
   "display_name": "Python 3 (ipykernel)",
   "language": "python",
   "name": "python3"
  },
  "language_info": {
   "codemirror_mode": {
    "name": "ipython",
    "version": 3
   },
   "file_extension": ".py",
   "mimetype": "text/x-python",
   "name": "python",
   "nbconvert_exporter": "python",
   "pygments_lexer": "ipython3",
   "version": "3.8.10"
  }
 },
 "nbformat": 4,
 "nbformat_minor": 4
}
