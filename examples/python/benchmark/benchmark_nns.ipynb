{
 "cells": [
  {
   "cell_type": "code",
   "execution_count": null,
   "id": "a16d37b8-6982-495c-b15e-e48009bf61e9",
   "metadata": {},
   "outputs": [],
   "source": [
    "import os\n",
    "print('CUDA_VISIBLE_DEVICES', os.environ['CUDA_VISIBLE_DEVICES'])\n",
    "os.environ['CUDA_LAUNCH_BLOCKING'] = '1' # does not affect results\n",
    "import numpy as np\n",
    "import open3d as o3d\n",
    "from matplotlib import pyplot as plt\n",
    "import tabulate\n",
    "from collections import OrderedDict\n",
    "import itertools\n",
    "import pickle"
   ]
  },
  {
   "cell_type": "code",
   "execution_count": null,
   "id": "c062c227-f78b-4f7f-9dc9-e9fa1ddab52e",
   "metadata": {},
   "outputs": [],
   "source": [
    "def measure_time(fn, min_samples=10, max_samples=100, max_time_in_sec=100.0):\n",
    "    \"\"\"Measure time to run fn. Returns the elapsed time each run.\"\"\"\n",
    "    from time import perf_counter_ns\n",
    "    t = []\n",
    "    for i in range(max_samples):\n",
    "        if sum(t) / 1e9 >= max_time_in_sec and i >= min_samples:\n",
    "            break\n",
    "        t.append(-perf_counter_ns())\n",
    "        try:\n",
    "            ans = fn()\n",
    "        except Exception as e:\n",
    "            print(e)\n",
    "            return np.array([np.nan])\n",
    "        t[-1] += perf_counter_ns()\n",
    "        del ans\n",
    "    print('.', end='')\n",
    "    return np.array(t) / 1e9"
   ]
  },
  {
   "cell_type": "code",
   "execution_count": null,
   "id": "e678b838-80ac-4a4f-b4da-32d7fe6d2f30",
   "metadata": {},
   "outputs": [],
   "source": [
    "# cuda device\n",
    "o3d_cuda_dev = o3d.core.Device(o3d.core.Device.CUDA,0)"
   ]
  },
  {
   "cell_type": "code",
   "execution_count": null,
   "id": "5aecf7df-fc00-4ec0-b7b3-f598ece4ddc4",
   "metadata": {},
   "outputs": [],
   "source": [
    "# collects runtimes for all examples\n",
    "results = OrderedDict()"
   ]
  },
  {
   "cell_type": "code",
   "execution_count": null,
   "id": "4b16494c-19ef-4d2c-8ca5-6d894a98939d",
   "metadata": {},
   "outputs": [],
   "source": [
    "# setup dataset examples\n",
    "datasets = OrderedDict()\n",
    "\n",
    "pcd = o3d.t.io.read_point_cloud('/root/code/Open3D/small_tower.ply')\n",
    "points = queries = pcd.point['points']\n",
    "datasets['sfm'] = {'points': points, 'queries': queries }\n",
    "\n",
    "# pcd_ds = o3d.t.io.read_point_cloud('canyon.ply')\n",
    "# points = pcd_ds.point['points'].to(o3d.core.Dtype.Float32)\n",
    "# pcd_qs = o3d.t.io.read_point_cloud('fluid_1000.ply')\n",
    "# queries = pcd_qs.point['points'].to(o3d.core.Dtype.Float32)\n",
    "# datasets['fluid'] = {'points': points, 'queries': queries }\n",
    "\n",
    "# random data\n",
    "points = queries = o3d.core.Tensor.from_numpy(np.random.rand(points.shape[0],3).astype(np.float32))\n",
    "datasets['random'] = {'points': points, 'queries': queries }"
   ]
  },
  {
   "cell_type": "code",
   "execution_count": null,
   "id": "d47a96e2-8fca-48ac-907e-90a536f608e0",
   "metadata": {},
   "outputs": [],
   "source": [
    "# setup and search functions\n",
    "def nns_setup(points):\n",
    "    nns = o3d.core.nns.NearestNeighborSearch(points)\n",
    "    status = nns.knn_index()\n",
    "    if not status:\n",
    "        raise Excepion('index failed')\n",
    "    return nns\n",
    "\n",
    "def nns_search(nns, queries, knn):\n",
    "    ans = nns.knn_search(queries, knn)\n",
    "    return ans\n",
    "\n",
    "class O3DKnn:\n",
    "    def __init__(self):\n",
    "        self.nns = None\n",
    "    \n",
    "    def setup(self, points):\n",
    "        self.nns = o3d.core.nns.KnnIndex()\n",
    "        self.nns.set_tensor_data(points)\n",
    "        return True\n",
    "    \n",
    "    def search(self, queries, knn):\n",
    "        ans = self.nns.knn_search(queries, knn)\n",
    "        return ans\n",
    "    \n",
    "    def clear(self):\n",
    "        del self.nns\n",
    "        \n",
    "class O3DFaiss(O3DKnn):\n",
    "    def setup(self, points):\n",
    "        self.nns = o3d.core.nns.FaissIndex()\n",
    "        self.nns.set_tensor_data(points)\n",
    "        return True\n",
    "\n",
    "methods = [O3DKnn(), O3DFaiss()]\n",
    "method_names = [m.__class__.__name__ for m in methods]"
   ]
  },
  {
   "cell_type": "code",
   "execution_count": null,
   "id": "2a8c60ef-6f1f-4702-9758-c53cc635259c",
   "metadata": {},
   "outputs": [],
   "source": [
    "for method in methods:\n",
    "    method_name = method.__class__.__name__\n",
    "    print(method_name)\n",
    "    for example_name, example in datasets.items():\n",
    "        print(example_name)\n",
    "        points = example['points']\n",
    "        queries = example['queries']\n",
    "\n",
    "        for knn, step in itertools.product((1,37,64), (1,10,100)):\n",
    "            print(knn, step)\n",
    "            points = example['points']\n",
    "            queries = example['queries']\n",
    "\n",
    "            points = points[::step].contiguous().to(o3d_cuda_dev)\n",
    "            queries = queries[::step].contiguous().to(o3d_cuda_dev)\n",
    "\n",
    "            example_results = {'k': knn, 'num_points': points.shape[0]}\n",
    "\n",
    "            ans = measure_time(lambda:method.setup(points))\n",
    "            example_results['knn_gpu_setup'] = ans\n",
    "\n",
    "            ans = measure_time(lambda :method.search(queries, knn))\n",
    "            example_results['knn_gpu_search'] = ans\n",
    "\n",
    "            method.clear()\n",
    "            o3d.core.cuda.release_cache()\n",
    "\n",
    "\n",
    "            results[f'{example_name} n={points.shape[0]} k={knn}'] = example_results\n",
    "\n",
    "            del points\n",
    "            del queries\n",
    "            o3d.core.cuda.release_cache()\n",
    "\n",
    "    with open(f'{method_name}.pkl', 'wb') as f:\n",
    "        pickle.dump(results, f)"
   ]
  },
  {
   "cell_type": "code",
   "execution_count": null,
   "id": "3150ddc5-a53e-4cb0-807f-165d58f09f24",
   "metadata": {},
   "outputs": [],
   "source": [
    "results = []\n",
    "for method_name, method in zip(method_names, methods):\n",
    "    with open(f\"{method_name}.pkl\", \"rb\") as f:\n",
    "        data = pickle.load(f)\n",
    "        results.append(data)\n",
    "# with open('knn.pkl', 'rb') as f:\n",
    "#     knn = pickle.load(f)\n",
    "# with open('faiss.pkl', 'rb') as f:\n",
    "#     faiss = pickle.load(f)"
   ]
  },
  {
   "cell_type": "code",
   "execution_count": null,
   "id": "de525a85-4e10-484d-a00a-afe5387dccf7",
   "metadata": {},
   "outputs": [],
   "source": [
    "def print_table():\n",
    "    headers = [''] + [f'{n}_setup' for n in method_names] + [f'{n}_search' for n in method_names]\n",
    "    rows = []\n",
    "    \n",
    "    for x in results[0]:\n",
    "        r = [x] + list(map(np.median, [ r[x]['knn_gpu_setup'] for r in results] + [r[x]['knn_gpu_search'] for r in results]))\n",
    "        rows.append(r)\n",
    "    \n",
    "    print(tabulate.tabulate(rows, headers=headers))\n",
    "print_table()"
   ]
  },
  {
   "cell_type": "code",
   "execution_count": null,
   "id": "ee89c4d2-7c20-4251-b5ed-4a2fd071c3c9",
   "metadata": {},
   "outputs": [],
   "source": []
  }
 ],
 "metadata": {
  "kernelspec": {
   "display_name": "Python 3 (ipykernel)",
   "language": "python",
   "name": "python3"
  },
  "language_info": {
   "codemirror_mode": {
    "name": "ipython",
    "version": 3
   },
   "file_extension": ".py",
   "mimetype": "text/x-python",
   "name": "python",
   "nbconvert_exporter": "python",
   "pygments_lexer": "ipython3",
   "version": "3.8.10"
  }
 },
 "nbformat": 4,
 "nbformat_minor": 5
}
