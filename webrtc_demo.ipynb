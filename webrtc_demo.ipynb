{
 "cells": [
  {
   "cell_type": "code",
   "execution_count": null,
   "metadata": {},
   "outputs": [],
   "source": [
    "import open3d as o3d\n",
    "import open3d.visualization.gui as gui\n",
    "import open3d.visualization.rendering as rendering\n",
    "import threading\n",
    "import numpy as np\n",
    "# from open3d.web_visualizer import _global_jupyter_loop"
   ]
  },
  {
   "cell_type": "code",
   "execution_count": null,
   "metadata": {},
   "outputs": [],
   "source": [
    "class _AsyncEventLoop:\n",
    "\n",
    "    class _Task:\n",
    "        _g_next_id = 0\n",
    "\n",
    "        def __init__(self, f):\n",
    "            self.task_id = self._g_next_id\n",
    "            self.func = f\n",
    "            self._g_next_id += 1\n",
    "\n",
    "    # Do not call this directly, use instance instead\n",
    "    def __init__(self):\n",
    "        # TODO: find a better solution. Currently py::print requires GIL which\n",
    "        # causes deadlock when AsyncEventLoop is used. By calling\n",
    "        # reset_print_function(), all C++ prints will be directed to the\n",
    "        # terminal while python print will still remain in the cell.\n",
    "        o3d.utility.reset_print_function()\n",
    "        self._lock = threading.Lock()\n",
    "        self._run_queue = []\n",
    "        self._return_vals = {}\n",
    "        self._started = False\n",
    "\n",
    "    def start(self):\n",
    "        if not self._started:\n",
    "            self._thread = threading.Thread(target=self._thread_main)\n",
    "            self._thread.start()\n",
    "            self._started = True\n",
    "\n",
    "    def run_sync(self, f):\n",
    "        with self._lock:\n",
    "            task = self._Task(f)\n",
    "            self._run_queue.append(task)\n",
    "\n",
    "        while True:\n",
    "            with self._lock:\n",
    "                if task.task_id in self._return_vals:\n",
    "                    return self._return_vals[task.task_id]\n",
    "\n",
    "    def _thread_main(self):\n",
    "        app = gui.Application.instance\n",
    "        app.initialize()\n",
    "\n",
    "        done = False\n",
    "        while not done:\n",
    "            with self._lock:\n",
    "                for task in self._run_queue:\n",
    "                    retval = task.func()\n",
    "                    self._return_vals[task.task_id] = retval\n",
    "                self._run_queue.clear()\n",
    "\n",
    "            done = not app.run_one_tick()\n",
    "\n",
    "\n",
    "# The _AsyncEventLoop class shall only be used to create a singleton instance.\n",
    "# There are different ways to achieve this, here we use the module as a holder\n",
    "# for singleton variables, see: https://stackoverflow.com/a/31887/1255535.\n",
    "_global_jupyter_loop = _AsyncEventLoop()\n",
    "_global_jupyter_loop.start()"
   ]
  },
  {
   "cell_type": "code",
   "execution_count": null,
   "metadata": {},
   "outputs": [],
   "source": [
    "def web_draw(geometry):\n",
    "    \n",
    "    def add_window():\n",
    "        app = gui.Application.instance\n",
    "        window = o3d.visualization.O3DVisualizer(\"Open3D\", 640, 480)\n",
    "        window.add_geometry(\"Torus\", geometry)\n",
    "        window.reset_camera_to_default()\n",
    "        app.add_window(window)\n",
    "        return window.uid\n",
    "        \n",
    "    uid = _global_jupyter_loop.run_sync(add_window)\n",
    "    print(f\"Newly add Window: {uid}\")\n",
    "    visualizer = o3d.WebVisualizer(window_uid=uid)\n",
    "    visualizer.show()"
   ]
  },
  {
   "cell_type": "code",
   "execution_count": null,
   "metadata": {},
   "outputs": [],
   "source": [
    "cube_red = o3d.geometry.TriangleMesh.create_box(1, 2, 4)\n",
    "cube_red.compute_vertex_normals()\n",
    "cube_red.paint_uniform_color((1.0, 0.0, 0.0))\n",
    "web_draw(cube_red)"
   ]
  },
  {
   "cell_type": "code",
   "execution_count": null,
   "metadata": {},
   "outputs": [],
   "source": [
    "cube_blue = o3d.geometry.TriangleMesh.create_box(1, 2, 4)\n",
    "cube_blue.compute_vertex_normals()\n",
    "cube_blue.paint_uniform_color((0.0, 0.0, 1.0))\n",
    "web_draw(cube_blue)"
   ]
  },
  {
   "cell_type": "code",
   "execution_count": null,
   "metadata": {},
   "outputs": [],
   "source": [
    "def torus():\n",
    "    app = gui.Application.instance\n",
    "\n",
    "    torus = o3d.geometry.TriangleMesh.create_torus()\n",
    "    torus.compute_vertex_normals()\n",
    "    mat = rendering.Material()\n",
    "    mat.shader = \"defaultLit\"\n",
    "\n",
    "    w = o3d.visualization.O3DVisualizer(\"Open3D\", 640, 480)\n",
    "    w.add_geometry(\"Torus\", torus, mat)\n",
    "    w.reset_camera_to_default()\n",
    "    app.add_window(w)\n",
    "\n",
    "\n",
    "def box():\n",
    "    app = gui.Application.instance\n",
    "\n",
    "    torus = o3d.geometry.TriangleMesh.create_box()\n",
    "    torus.compute_vertex_normals()\n",
    "    mat = rendering.Material()\n",
    "    mat.shader = \"defaultLit\"\n",
    "\n",
    "    w = o3d.visualization.O3DVisualizer(\"Open3D\", 640, 480)\n",
    "    w.add_geometry(\"box\", torus, mat)\n",
    "    w.reset_camera_to_default()\n",
    "    app.add_window(w)"
   ]
  },
  {
   "cell_type": "code",
   "execution_count": null,
   "metadata": {},
   "outputs": [],
   "source": [
    "wid_torus = _global_jupyter_loop.run_sync(torus)\n",
    "wid_box = _global_jupyter_loop.run_sync(box)\n",
    "print(f\"New windows: {wid_torus}, {wid_box}\")"
   ]
  },
  {
   "cell_type": "code",
   "execution_count": null,
   "metadata": {},
   "outputs": [],
   "source": [
    "# visualizer = o3d.WebVisualizer(window_uid=\"window_0\")\n",
    "# visualizer.show()\n",
    "# visualizer = o3d.WebVisualizer(window_uid=\"window_1\")\n",
    "# visualizer.show()"
   ]
  }
 ],
 "metadata": {
  "kernelspec": {
   "display_name": "Python 3",
   "language": "python",
   "name": "python3"
  },
  "language_info": {
   "codemirror_mode": {
    "name": "ipython",
    "version": 3
   },
   "file_extension": ".py",
   "mimetype": "text/x-python",
   "name": "python",
   "nbconvert_exporter": "python",
   "pygments_lexer": "ipython3",
   "version": "3.8.6"
  }
 },
 "nbformat": 4,
 "nbformat_minor": 4
}
