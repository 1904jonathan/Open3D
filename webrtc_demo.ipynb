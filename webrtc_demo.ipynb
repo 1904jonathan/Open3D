{
 "cells": [
  {
   "cell_type": "code",
   "execution_count": null,
   "metadata": {},
   "outputs": [],
   "source": [
    "import numpy as np\n",
    "import open3d as o3d\n",
    "import threading"
   ]
  },
  {
   "cell_type": "code",
   "execution_count": null,
   "metadata": {},
   "outputs": [],
   "source": [
    "def add_draw(geometries, window_name, width, height):\n",
    "    vis = o3d.visualization.O3DVisualizer(title=window_name,\n",
    "                                          width=width,\n",
    "                                          height=height)\n",
    "    count = 0\n",
    "    for geometry in geometries:\n",
    "        vis.add_geometry(f\"geometry_{count}\", geometry)\n",
    "        count += 1\n",
    "    vis.reset_camera_to_default()\n",
    "    o3d.visualization.gui.Application.instance.add_window(vis)\n",
    "    \n",
    "def empty_box():\n",
    "    pc_rad = 1.0\n",
    "    r = 0.4\n",
    "    big_bbox = o3d.geometry.AxisAlignedBoundingBox((-pc_rad, -3, -pc_rad),\n",
    "                                                   (6.0 + r, 1.0 + r, pc_rad))\n",
    "    add_draw([big_bbox], \"Open3D empty_box\", 640, 480)\n",
    "\n",
    "def multi_objects():\n",
    "    pc_rad = 1.0\n",
    "    r = 0.4\n",
    "    sphere_unlit = o3d.geometry.TriangleMesh.create_sphere(r)\n",
    "    sphere_unlit.translate((0, 1, 0))\n",
    "    sphere_colored_unlit = o3d.geometry.TriangleMesh.create_sphere(r)\n",
    "    sphere_colored_unlit.paint_uniform_color((1.0, 0.0, 0.0))\n",
    "    sphere_colored_unlit.translate((2, 1, 0))\n",
    "    sphere_lit = o3d.geometry.TriangleMesh.create_sphere(r)\n",
    "    sphere_lit.compute_vertex_normals()\n",
    "    sphere_lit.translate((4, 1, 0))\n",
    "    sphere_colored_lit = o3d.geometry.TriangleMesh.create_sphere(r)\n",
    "    sphere_colored_lit.compute_vertex_normals()\n",
    "    sphere_colored_lit.paint_uniform_color((0.0, 1.0, 0.0))\n",
    "    sphere_colored_lit.translate((6, 1, 0))\n",
    "    big_bbox = o3d.geometry.AxisAlignedBoundingBox((-pc_rad, -3, -pc_rad),\n",
    "                                                   (6.0 + r, 1.0 + r, pc_rad))\n",
    "    sphere_bbox = sphere_unlit.get_axis_aligned_bounding_box()\n",
    "    sphere_bbox.color = (1.0, 0.5, 0.0)\n",
    "    lines = o3d.geometry.LineSet.create_from_axis_aligned_bounding_box(\n",
    "        sphere_lit.get_axis_aligned_bounding_box())\n",
    "    lines_colored = o3d.geometry.LineSet.create_from_axis_aligned_bounding_box(\n",
    "        sphere_colored_lit.get_axis_aligned_bounding_box())\n",
    "    lines_colored.paint_uniform_color((0.0, 0.0, 1.0))\n",
    "\n",
    "    add_draw([\n",
    "        sphere_unlit, sphere_colored_unlit, sphere_lit, sphere_colored_lit,\n",
    "        big_bbox, sphere_bbox, lines, lines_colored\n",
    "    ], \"Open3D multi_objects\", 640, 480)"
   ]
  },
  {
   "cell_type": "code",
   "execution_count": null,
   "metadata": {},
   "outputs": [],
   "source": [
    "app = o3d.visualization.gui.Application.instance\n",
    "app.initialize()"
   ]
  },
  {
   "cell_type": "code",
   "execution_count": null,
   "metadata": {},
   "outputs": [],
   "source": [
    "empty_box()\n",
    "visualizer = o3d.WebVisualizer(window_uid=\"window_0\")\n",
    "visualizer.show()"
   ]
  },
  {
   "cell_type": "code",
   "execution_count": null,
   "metadata": {},
   "outputs": [],
   "source": [
    "multi_objects()\n",
    "visualizer = o3d.WebVisualizer(window_uid=\"window_1\")\n",
    "visualizer.show()"
   ]
  },
  {
   "cell_type": "code",
   "execution_count": null,
   "metadata": {},
   "outputs": [],
   "source": [
    "app.run()"
   ]
  },
  {
   "cell_type": "code",
   "execution_count": null,
   "metadata": {},
   "outputs": [],
   "source": []
  }
 ],
 "metadata": {
  "kernelspec": {
   "display_name": "Python 3",
   "language": "python",
   "name": "python3"
  },
  "language_info": {
   "codemirror_mode": {
    "name": "ipython",
    "version": 3
   },
   "file_extension": ".py",
   "mimetype": "text/x-python",
   "name": "python",
   "nbconvert_exporter": "python",
   "pygments_lexer": "ipython3",
   "version": "3.8.6"
  }
 },
 "nbformat": 4,
 "nbformat_minor": 4
}
