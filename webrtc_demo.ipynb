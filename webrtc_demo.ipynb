{
 "cells": [
  {
   "cell_type": "code",
   "execution_count": null,
   "metadata": {},
   "outputs": [],
   "source": [
    "import numpy as np\n",
    "import open3d as o3d\n",
    "import open3d.visualization.gui as gui\n",
    "import threading\n",
    "gui.Application.instance.enable_webrtc()"
   ]
  },
  {
   "cell_type": "code",
   "execution_count": null,
   "metadata": {},
   "outputs": [],
   "source": [
    "def multi_objects():\n",
    "    def make_point_cloud(npts, center, radius, colorize):\n",
    "        pts = np.random.uniform(-radius, radius, size=[npts, 3]) + center\n",
    "        cloud = o3d.geometry.PointCloud()\n",
    "        cloud.points = o3d.utility.Vector3dVector(pts)\n",
    "        if colorize:\n",
    "            colors = np.random.uniform(0.0, 1.0, size=[npts, 3])\n",
    "            cloud.colors = o3d.utility.Vector3dVector(colors)\n",
    "        return cloud\n",
    "    pc_rad = 1.0\n",
    "    pc_nocolor = make_point_cloud(100, (0, -2, 0), pc_rad, False)\n",
    "    pc_color = make_point_cloud(100, (3, -2, 0), pc_rad, True)\n",
    "    r = 0.4\n",
    "    sphere_unlit = o3d.geometry.TriangleMesh.create_sphere(r)\n",
    "    sphere_unlit.translate((0, 1, 0))\n",
    "    sphere_colored_unlit = o3d.geometry.TriangleMesh.create_sphere(r)\n",
    "    sphere_colored_unlit.paint_uniform_color((1.0, 0.0, 0.0))\n",
    "    sphere_colored_unlit.translate((2, 1, 0))\n",
    "    sphere_lit = o3d.geometry.TriangleMesh.create_sphere(r)\n",
    "    sphere_lit.compute_vertex_normals()\n",
    "    sphere_lit.translate((4, 1, 0))\n",
    "    sphere_colored_lit = o3d.geometry.TriangleMesh.create_sphere(r)\n",
    "    sphere_colored_lit.compute_vertex_normals()\n",
    "    sphere_colored_lit.paint_uniform_color((0.0, 1.0, 0.0))\n",
    "    sphere_colored_lit.translate((6, 1, 0))\n",
    "    big_bbox = o3d.geometry.AxisAlignedBoundingBox((-pc_rad, -3, -pc_rad),\n",
    "                                                   (6.0 + r, 1.0 + r, pc_rad))\n",
    "    sphere_bbox = sphere_unlit.get_axis_aligned_bounding_box()\n",
    "    sphere_bbox.color = (1.0, 0.5, 0.0)\n",
    "    lines = o3d.geometry.LineSet.create_from_axis_aligned_bounding_box(\n",
    "        sphere_lit.get_axis_aligned_bounding_box())\n",
    "    lines_colored = o3d.geometry.LineSet.create_from_axis_aligned_bounding_box(\n",
    "        sphere_colored_lit.get_axis_aligned_bounding_box())\n",
    "    lines_colored.paint_uniform_color((0.0, 0.0, 1.0))\n",
    "\n",
    "    o3d.visualization.draw([\n",
    "        pc_nocolor, pc_color, sphere_unlit, sphere_colored_unlit, sphere_lit,\n",
    "        sphere_colored_lit, big_bbox, sphere_bbox, lines, lines_colored\n",
    "    ], title=\"Open3D\", width=640, height=480)\n",
    "    \n",
    "def draw_multi_objects():\n",
    "    thread = threading.Thread(target=multi_objects)\n",
    "    thread.start()"
   ]
  },
  {
   "cell_type": "code",
   "execution_count": null,
   "metadata": {},
   "outputs": [],
   "source": [
    "draw_multi_objects()"
   ]
  },
  {
   "cell_type": "code",
   "execution_count": null,
   "metadata": {},
   "outputs": [],
   "source": [
    "visualizer = o3d.JVisualizer()\n",
    "visualizer.show()"
   ]
  },
  {
   "cell_type": "code",
   "execution_count": null,
   "metadata": {},
   "outputs": [],
   "source": []
  }
 ],
 "metadata": {
  "kernelspec": {
   "display_name": "Python 3",
   "language": "python",
   "name": "python3"
  },
  "language_info": {
   "codemirror_mode": {
    "name": "ipython",
    "version": 3
   },
   "file_extension": ".py",
   "mimetype": "text/x-python",
   "name": "python",
   "nbconvert_exporter": "python",
   "pygments_lexer": "ipython3",
   "version": "3.8.6"
  }
 },
 "nbformat": 4,
 "nbformat_minor": 4
}
