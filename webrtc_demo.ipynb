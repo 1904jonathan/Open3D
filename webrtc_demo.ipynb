{
 "cells": [
  {
   "cell_type": "code",
   "execution_count": null,
   "metadata": {},
   "outputs": [],
   "source": [
    "import open3d as o3d\n",
    "import open3d.visualization.gui as gui\n",
    "import open3d.visualization.rendering as rendering\n",
    "import threading\n",
    "import numpy as np\n",
    "from open3d.web_visualizer import _global_jupyter_loop"
   ]
  },
  {
   "cell_type": "code",
   "execution_count": null,
   "metadata": {},
   "outputs": [],
   "source": [
    "def web_draw(geometry):\n",
    "    \n",
    "    def add_window():\n",
    "        app = gui.Application.instance\n",
    "        window = o3d.visualization.O3DVisualizer(\"Open3D\", 640, 480)\n",
    "        window.add_geometry(\"Torus\", geometry)\n",
    "        window.reset_camera_to_default()\n",
    "        app.add_window(window)\n",
    "        return window.uid\n",
    "        \n",
    "    uid = _global_jupyter_loop.run_sync(add_window)\n",
    "    print(f\"Newly add Window: {uid}\")\n",
    "    visualizer = o3d.WebVisualizer(window_uid=uid)\n",
    "    visualizer.show()"
   ]
  },
  {
   "cell_type": "code",
   "execution_count": null,
   "metadata": {},
   "outputs": [],
   "source": [
    "cube_red = o3d.geometry.TriangleMesh.create_box(1, 2, 4)\n",
    "cube_red.compute_vertex_normals()\n",
    "cube_red.paint_uniform_color((1.0, 0.0, 0.0))\n",
    "web_draw(cube_red)"
   ]
  },
  {
   "cell_type": "code",
   "execution_count": null,
   "metadata": {},
   "outputs": [],
   "source": [
    "cube_blue = o3d.geometry.TriangleMesh.create_box(1, 2, 4)\n",
    "cube_blue.compute_vertex_normals()\n",
    "cube_blue.paint_uniform_color((0.0, 0.0, 1.0))\n",
    "web_draw2(cube_blue)"
   ]
  },
  {
   "cell_type": "code",
   "execution_count": null,
   "metadata": {},
   "outputs": [],
   "source": [
    "# def box():\n",
    "#     app = gui.Application.instance\n",
    "#\n",
    "#     torus = o3d.geometry.TriangleMesh.create_box()\n",
    "#     torus.compute_vertex_normals()\n",
    "#     mat = rendering.Material()\n",
    "#     mat.shader = \"defaultLit\"\n",
    "#\n",
    "#     w = o3d.visualization.O3DVisualizer(\"Open3D\", 640, 480)\n",
    "#     w.add_geometry(\"box\", torus, mat)\n",
    "#     w.reset_camera_to_default()\n",
    "#     print(\"my uid\", w.uid)\n",
    "#     app.add_window(w)"
   ]
  }
 ],
 "metadata": {
  "kernelspec": {
   "display_name": "Python 3",
   "language": "python",
   "name": "python3"
  },
  "language_info": {
   "codemirror_mode": {
    "name": "ipython",
    "version": 3
   },
   "file_extension": ".py",
   "mimetype": "text/x-python",
   "name": "python",
   "nbconvert_exporter": "python",
   "pygments_lexer": "ipython3",
   "version": "3.8.6"
  }
 },
 "nbformat": 4,
 "nbformat_minor": 4
}
