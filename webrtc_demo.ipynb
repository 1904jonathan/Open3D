{
 "cells": [
  {
   "cell_type": "code",
   "execution_count": null,
   "metadata": {},
   "outputs": [],
   "source": [
    "import open3d as o3d\n",
    "import open3d.visualization.gui as gui\n",
    "import open3d.visualization.rendering as rendering\n",
    "import threading\n",
    "import numpy as np\n",
    "# o3d.visualization.gui.Application.instance.enable_webrtc()\n",
    "print(o3d.__version__)\n",
    "from open3d.web_draw import global_jupyter_loop"
   ]
  },
  {
   "cell_type": "code",
   "execution_count": null,
   "metadata": {},
   "outputs": [],
   "source": [
    "def torus():\n",
    "    app = gui.Application.instance\n",
    "\n",
    "    torus = o3d.geometry.TriangleMesh.create_torus()\n",
    "    torus.compute_vertex_normals()\n",
    "    mat = rendering.Material()\n",
    "    mat.shader = \"defaultLit\"\n",
    "\n",
    "    w = o3d.visualization.O3DVisualizer(\"Open3D\", 640, 480)\n",
    "    w.add_geometry(\"Torus\", torus, mat)\n",
    "    w.reset_camera_to_default()\n",
    "    app.add_window(w)\n",
    "\n",
    "\n",
    "def box():\n",
    "    app = gui.Application.instance\n",
    "\n",
    "    torus = o3d.geometry.TriangleMesh.create_box()\n",
    "    torus.compute_vertex_normals()\n",
    "    mat = rendering.Material()\n",
    "    mat.shader = \"defaultLit\"\n",
    "\n",
    "    w = o3d.visualization.O3DVisualizer(\"Open3D\", 640, 480)\n",
    "    w.add_geometry(\"box\", torus, mat)\n",
    "    w.reset_camera_to_default()\n",
    "    app.add_window(w)"
   ]
  },
  {
   "cell_type": "code",
   "execution_count": null,
   "metadata": {},
   "outputs": [],
   "source": [
    "global_jupyter_loop.run_sync(torus)\n",
    "global_jupyter_loop.run_sync(box)"
   ]
  },
  {
   "cell_type": "code",
   "execution_count": null,
   "metadata": {},
   "outputs": [],
   "source": [
    "visualizer = o3d.WebVisualizer(window_uid=\"window_0\")\n",
    "visualizer.show()"
   ]
  },
  {
   "cell_type": "code",
   "execution_count": null,
   "metadata": {},
   "outputs": [],
   "source": [
    "visualizer = o3d.WebVisualizer(window_uid=\"window_1\")\n",
    "visualizer.show()"
   ]
  },
  {
   "cell_type": "code",
   "execution_count": null,
   "metadata": {},
   "outputs": [],
   "source": [
    "visualizer = o3d.WebVisualizer(window_uid=\"window_1\")\n",
    "visualizer.show()"
   ]
  },
  {
   "cell_type": "code",
   "execution_count": null,
   "metadata": {},
   "outputs": [],
   "source": []
  }
 ],
 "metadata": {
  "kernelspec": {
   "display_name": "Python 3",
   "language": "python",
   "name": "python3"
  },
  "language_info": {
   "codemirror_mode": {
    "name": "ipython",
    "version": 3
   },
   "file_extension": ".py",
   "mimetype": "text/x-python",
   "name": "python",
   "nbconvert_exporter": "python",
   "pygments_lexer": "ipython3",
   "version": "3.8.6"
  }
 },
 "nbformat": 4,
 "nbformat_minor": 4
}
