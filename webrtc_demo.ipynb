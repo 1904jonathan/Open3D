{
 "cells": [
  {
   "cell_type": "code",
   "execution_count": null,
   "metadata": {},
   "outputs": [],
   "source": [
    "import open3d as o3d\n",
    "import open3d.visualization.gui as gui\n",
    "import open3d.visualization.rendering as rendering\n",
    "import threading\n",
    "import numpy as np\n",
    "from open3d.web_visualizer import _global_jupyter_loop"
   ]
  },
  {
   "cell_type": "code",
   "execution_count": null,
   "metadata": {},
   "outputs": [],
   "source": [
    "def draw():\n",
    "    def torus():\n",
    "        app = gui.Application.instance\n",
    "\n",
    "        torus = o3d.geometry.TriangleMesh.create_torus()\n",
    "        torus.compute_vertex_normals()\n",
    "        mat = rendering.Material()\n",
    "        mat.shader = \"defaultLit\"\n",
    "\n",
    "        w = o3d.visualization.O3DVisualizer(\"Open3D\", 640, 480)\n",
    "        w.add_geometry(\"Torus\", torus, mat)\n",
    "        w.reset_camera_to_default()\n",
    "        print(\"my uid\", w.uid)\n",
    "        uid = w.uid\n",
    "        app.add_window(w)\n",
    "        return uid\n",
    "        \n",
    "    uid = _global_jupyter_loop.run_sync(torus)\n",
    "    print(uid)\n",
    "    visualizer = o3d.WebVisualizer(window_uid=uid)\n",
    "    visualizer.show()\n",
    "draw()"
   ]
  },
  {
   "cell_type": "code",
   "execution_count": null,
   "metadata": {},
   "outputs": [],
   "source": [
    "# def box():\n",
    "#     app = gui.Application.instance\n",
    "#\n",
    "#     torus = o3d.geometry.TriangleMesh.create_box()\n",
    "#     torus.compute_vertex_normals()\n",
    "#     mat = rendering.Material()\n",
    "#     mat.shader = \"defaultLit\"\n",
    "#\n",
    "#     w = o3d.visualization.O3DVisualizer(\"Open3D\", 640, 480)\n",
    "#     w.add_geometry(\"box\", torus, mat)\n",
    "#     w.reset_camera_to_default()\n",
    "#     print(\"my uid\", w.uid)\n",
    "#     app.add_window(w)"
   ]
  }
 ],
 "metadata": {
  "kernelspec": {
   "display_name": "Python 3",
   "language": "python",
   "name": "python3"
  },
  "language_info": {
   "codemirror_mode": {
    "name": "ipython",
    "version": 3
   },
   "file_extension": ".py",
   "mimetype": "text/x-python",
   "name": "python",
   "nbconvert_exporter": "python",
   "pygments_lexer": "ipython3",
   "version": "3.8.6"
  }
 },
 "nbformat": 4,
 "nbformat_minor": 4
}
