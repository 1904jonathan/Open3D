{
 "cells": [
  {
   "cell_type": "code",
   "execution_count": null,
   "metadata": {},
   "outputs": [],
   "source": [
    "import open3d as o3d\n",
    "import open3d.visualization.gui as gui\n",
    "import open3d.visualization.rendering as rendering\n",
    "import threading\n",
    "import numpy as np\n",
    "# o3d.visualization.gui.Application.instance.enable_webrtc()\n",
    "print(o3d.__version__)"
   ]
  },
  {
   "cell_type": "code",
   "execution_count": null,
   "metadata": {},
   "outputs": [],
   "source": [
    "class AsyncEventLoop:\n",
    "\n",
    "    class _Task:\n",
    "        _g_next_id = 0\n",
    "\n",
    "        def __init__(self, f):\n",
    "            self.task_id = self._g_next_id\n",
    "            self.func = f\n",
    "            self._g_next_id += 1\n",
    "\n",
    "    # Do not call this directly, use instance instead\n",
    "    def __init__(self):\n",
    "        # TODO: find a better solution. We need to redirect\n",
    "        # C++ prints to terminal when async loop + GIL + py::print\n",
    "        # are used together under some scenarios.\n",
    "        o3d.utility.reset_print_function()\n",
    "        self._lock = threading.Lock()\n",
    "        self._run_queue = []\n",
    "        self._return_vals = {}\n",
    "\n",
    "    def start(self):\n",
    "        self._thread = threading.Thread(target=self._thread_main)\n",
    "        self._thread.start()\n",
    "\n",
    "    def run_sync(self, f):\n",
    "        with self._lock:\n",
    "            task = self._Task(f)\n",
    "            self._run_queue.append(task)\n",
    "\n",
    "        while True:\n",
    "            with self._lock:\n",
    "                if task.task_id in self._return_vals:\n",
    "                    return self._return_vals[task.task_id]\n",
    "\n",
    "    def _thread_main(self):\n",
    "        app = gui.Application.instance\n",
    "        app.initialize()\n",
    "\n",
    "        done = False\n",
    "        while not done:\n",
    "            with self._lock:\n",
    "                for task in self._run_queue:\n",
    "                    retval = task.func()\n",
    "                    self._return_vals[task.task_id] = retval\n",
    "                self._run_queue.clear()\n",
    "\n",
    "            done = not app.run_one_tick()"
   ]
  },
  {
   "cell_type": "code",
   "execution_count": null,
   "metadata": {},
   "outputs": [],
   "source": [
    "def torus():\n",
    "    app = gui.Application.instance\n",
    "\n",
    "    torus = o3d.geometry.TriangleMesh.create_torus()\n",
    "    torus.compute_vertex_normals()\n",
    "    mat = rendering.Material()\n",
    "    mat.shader = \"defaultLit\"\n",
    "\n",
    "    w = o3d.visualization.O3DVisualizer(\"Open3D\", 640, 480)\n",
    "    w.add_geometry(\"Torus\", torus, mat)\n",
    "    w.reset_camera_to_default()\n",
    "    app.add_window(w)\n",
    "\n",
    "\n",
    "def box():\n",
    "    app = gui.Application.instance\n",
    "\n",
    "    torus = o3d.geometry.TriangleMesh.create_box()\n",
    "    torus.compute_vertex_normals()\n",
    "    mat = rendering.Material()\n",
    "    mat.shader = \"defaultLit\"\n",
    "\n",
    "    w = o3d.visualization.O3DVisualizer(\"Open3D\", 640, 480)\n",
    "    w.add_geometry(\"box\", torus, mat)\n",
    "    w.reset_camera_to_default()\n",
    "    app.add_window(w)"
   ]
  },
  {
   "cell_type": "code",
   "execution_count": null,
   "metadata": {},
   "outputs": [],
   "source": [
    "eloop = AsyncEventLoop()\n",
    "eloop.start()\n",
    "eloop.run_sync(torus)\n",
    "eloop.run_sync(box)"
   ]
  },
  {
   "cell_type": "code",
   "execution_count": null,
   "metadata": {},
   "outputs": [],
   "source": [
    "visualizer = o3d.WebVisualizer(window_uid=\"window_0\")\n",
    "visualizer.show()"
   ]
  },
  {
   "cell_type": "code",
   "execution_count": null,
   "metadata": {},
   "outputs": [],
   "source": [
    "visualizer = o3d.WebVisualizer(window_uid=\"window_1\")\n",
    "visualizer.show()"
   ]
  },
  {
   "cell_type": "code",
   "execution_count": null,
   "metadata": {},
   "outputs": [],
   "source": [
    "visualizer = o3d.WebVisualizer(window_uid=\"window_1\")\n",
    "visualizer.show()"
   ]
  },
  {
   "cell_type": "code",
   "execution_count": null,
   "metadata": {},
   "outputs": [],
   "source": []
  }
 ],
 "metadata": {
  "kernelspec": {
   "display_name": "Python 3",
   "language": "python",
   "name": "python3"
  },
  "language_info": {
   "codemirror_mode": {
    "name": "ipython",
    "version": 3
   },
   "file_extension": ".py",
   "mimetype": "text/x-python",
   "name": "python",
   "nbconvert_exporter": "python",
   "pygments_lexer": "ipython3",
   "version": "3.8.8"
  }
 },
 "nbformat": 4,
 "nbformat_minor": 4
}
